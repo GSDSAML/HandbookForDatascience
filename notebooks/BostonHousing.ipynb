{
 "cells": [
  {
   "cell_type": "markdown",
   "metadata": {},
   "source": [
    "# Boston Housing Price Prediction"
   ]
  },
  {
   "cell_type": "markdown",
   "metadata": {},
   "source": [
    "The dataset originates from the UCI Machine Learning Repository, was collected from homes in suburbs of Boston, Massachusetts in 1978. The data consists of 506 entries, wherein each row has 14 features.\n",
    "\n",
    "***References:***\n",
    "- https://www.kaggle.com/datasets/schirmerchad/bostonhoustingmlnd"
   ]
  },
  {
   "cell_type": "markdown",
   "metadata": {},
   "source": [
    "|Column   | Description                                                           |\n",
    "|---------|-----------------------------------------------------------------------|\n",
    "| CRIM    | Per capita crime rate by town                                         |\n",
    "| ZN      | Proportion of residential land zoned for lots over 25,000 sq.ft.      |\n",
    "| INDUS   | Proportion of non-retail business acres per town                      |\n",
    "| CHAS    | Charles River dummy variable (= 1 if tract bounds river; 0 otherwise) |\n",
    "| NOX     | Nitric oxides concentration (parts per 10 million)                    |\n",
    "| RM      | Average number of rooms per dwelling                                  |\n",
    "| AGE     | Proportion of owner-occupied units built prior to 1940                |\n",
    "| DIS     | Weighted distances to five Boston employment centres                  |\n",
    "| RAD     | Index of accessibility to radial highways                             |\n",
    "| TAX     | Full-value property-tax rate per $10,000                              |\n",
    "| PTRATIO | Pupil - teacher ratio by town                                         |\n",
    "| B       | 1000(Bk - 0.63)^2 where Bk is the proportion of blacks by town        |\n",
    "| LSTAT   | % lower status of the population                                      |\n",
    "| MEDV    | Median value of owner-occupied homes in $1000's                       |"
   ]
  },
  {
   "cell_type": "markdown",
   "metadata": {},
   "source": []
  }
 ],
 "metadata": {
  "language_info": {
   "name": "python"
  },
  "orig_nbformat": 4
 },
 "nbformat": 4,
 "nbformat_minor": 2
}
