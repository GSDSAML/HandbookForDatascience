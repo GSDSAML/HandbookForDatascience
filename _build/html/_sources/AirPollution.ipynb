{
 "cells": [
  {
   "cell_type": "markdown",
   "id": "c072f7f7",
   "metadata": {},
   "source": [
    "# Seoul Air Quality Level Prediction"
   ]
  },
  {
   "cell_type": "markdown",
   "id": "4573b6ff",
   "metadata": {},
   "source": [
    "## 1. Seoul Air Quality Dataset\n",
    "\n",
    "This dataset is collected from @seoul_air, including Seoul air quality data from 2008 to 2018. Air quality is impacted by many factors such as traffic volume, neighboring area AQ situations, weather, seasonal information, and other economic activities. Many works have addressed the relationship between AQ level and other factors via numerous modeling approaches. For instance, during the Chuseok holidays, the AQI tends to get better, while it is serious during weekdays, especially with foggy weather conditions or in the yellow dust season. You can refer to [3-5] for more information on how researchers used this dataset in their works."
   ]
  },
  {
   "cell_type": "markdown",
   "id": "59e4dc14",
   "metadata": {},
   "source": [
    "| Column | Description |\n",
    "|---------|---------|\n",
    "| Datetime | Timestamp |\n",
    "| District | District code 0-25 (Code 0 represents the average value of all 25 districts in Seoul). Other districts are identified from 1 to 25.  The order of district codes is 0 - 평균, 1 - 종로구, 2 - 중구, 3 - 용산구, 4 - 성동구, 5 - 광진구, 6 - 동대문구, 7 - 중랑구, 8 - 성북구, 9 - 강북구, 10 - 도봉구, 11 - 노원구, 12 - 은평구, 13 - 서대문구, 14 - 마포구, 15 - 양천구, 16 - 강서구, 17 - 구로구, 18 - 금천구, 19 - 영등포구, 20 - 동작구, 21 - 관악구, 22 - 서초구, 23 - 강남구, 24 - 송파구, 25 - 강동구 |\n",
    "| PM10_CONC | PM10 concentration (µg/m3) |\n",
    "| PM2_5_CONC | PM2.5 concentration (µg/m3) |\n",
    "|O3         | Ozone concentration (µg/m3) |\n",
    "| NO2 | NO2 concentration (µg/m3) |\n",
    "| CO | CO concentration (µg/m3) |\n",
    "| SO2 | SO2 concentration (µg/m3) |\n",
    "| PM10_AQI | PM10 AQI Index according to US Standard AQI Index |\n",
    "| PM2_5_AQI | PM2.5 AQI Index according to US Standard AQI Index |"
   ]
  },
  {
   "cell_type": "markdown",
   "id": "b4d5e292",
   "metadata": {},
   "source": [
    "## 2. Additional Data Sources\n",
    "<figure>\n",
    "<img src=\"./_images/ml_system.png\" alt=\"ml_system\" width=\"80%\" height=\"80%\">\n",
    "<figcaption>Image Source From https://proceedings.neurips.cc/paper/2015/file/86df7dcfd896fcaf2674f757a2463eba-Paper.pdf</figcaption>\n",
    "</figure>\n",
    "\n",
    "As the figure shows, we spend most of the time on data collection, cleansing, and pre-processing. Only a small amount of time is for machine learning model development. To increase the accuracy of models, we must try to find additional data to verify our hypotheses.\n",
    "\n",
    "### 2.1 Weather Data\n",
    "\n",
    "<figure>\n",
    "<img width=\"500px\" src=\"./_images/seoul_weather.png\" alt=\"ml_system\" width=\"80%\" height=\"80%\">\n",
    "<figcaption>Seoul Weather from worldweatheronline.com</figcaption>\n",
    "</figure>\n",
    "\n",
    "Many researches have pointed out that air quality level relates to weather conditions. For instance, AQ levels get better after a heavy rain, or it usually gets worse during the winter season. For more information, please check out reference papers.\n",
    "\n",
    "### 2.2 Holiday Information\n",
    "\n",
    "<figure>\n",
    "<img width=\"500px\" src=\"./_images/holiday.png\" alt=\"ml_system\" width=\"80%\" height=\"80%\">\n",
    "<figcaption>Seoul Holidays from timeanddata.com</figcaption>\n",
    "</figure>\n",
    "\n",
    "Similar to weather data, we can collect holiday information from websites like timeanddata.com."
   ]
  },
  {
   "cell_type": "markdown",
   "id": "0ea1c797",
   "metadata": {},
   "source": [
    "## 3. Data Pre-processing"
   ]
  },
  {
   "cell_type": "code",
   "execution_count": 1,
   "id": "902ab63e",
   "metadata": {},
   "outputs": [],
   "source": [
    "import pandas as pd\n",
    "import numpy as np"
   ]
  },
  {
   "cell_type": "markdown",
   "id": "9c093b91",
   "metadata": {},
   "source": [
    "### 3.1 Data loading\n",
    "\n",
    "As the original Seoul AQ dataset contains 25 information of 25 districts, it's too large for this example. Therefore, we only work with the overall AQ dataset only. In short, we extract city-level air quality data from the original dataset."
   ]
  },
  {
   "cell_type": "code",
   "execution_count": 2,
   "id": "c3ed4f23",
   "metadata": {},
   "outputs": [],
   "source": [
    "seoul_air = pd.read_csv('/home/alexbui/workspace/HandbookForDatascience/notebooks/data/seoul_air_avg.csv')"
   ]
  },
  {
   "cell_type": "code",
   "execution_count": 3,
   "id": "9d033529",
   "metadata": {},
   "outputs": [
    {
     "data": {
      "text/html": [
       "<div>\n",
       "<style scoped>\n",
       "    .dataframe tbody tr th:only-of-type {\n",
       "        vertical-align: middle;\n",
       "    }\n",
       "\n",
       "    .dataframe tbody tr th {\n",
       "        vertical-align: top;\n",
       "    }\n",
       "\n",
       "    .dataframe thead th {\n",
       "        text-align: right;\n",
       "    }\n",
       "</style>\n",
       "<table border=\"1\" class=\"dataframe\">\n",
       "  <thead>\n",
       "    <tr style=\"text-align: right;\">\n",
       "      <th></th>\n",
       "      <th>Datetime</th>\n",
       "      <th>PM10_CONC</th>\n",
       "      <th>PM2_5_CONC</th>\n",
       "      <th>O3</th>\n",
       "      <th>NO2</th>\n",
       "      <th>CO</th>\n",
       "      <th>SO2</th>\n",
       "      <th>PM10_AQI</th>\n",
       "      <th>PM2_5_AQI</th>\n",
       "    </tr>\n",
       "  </thead>\n",
       "  <tbody>\n",
       "    <tr>\n",
       "      <th>0</th>\n",
       "      <td>2008-01-01 01:00:00</td>\n",
       "      <td>59.0</td>\n",
       "      <td>14.0</td>\n",
       "      <td>0.017</td>\n",
       "      <td>0.017</td>\n",
       "      <td>0.4</td>\n",
       "      <td>0.007</td>\n",
       "      <td>53.0</td>\n",
       "      <td>55.0</td>\n",
       "    </tr>\n",
       "    <tr>\n",
       "      <th>1</th>\n",
       "      <td>2008-01-01 02:00:00</td>\n",
       "      <td>52.0</td>\n",
       "      <td>14.0</td>\n",
       "      <td>0.018</td>\n",
       "      <td>0.016</td>\n",
       "      <td>0.4</td>\n",
       "      <td>0.007</td>\n",
       "      <td>48.0</td>\n",
       "      <td>55.0</td>\n",
       "    </tr>\n",
       "    <tr>\n",
       "      <th>2</th>\n",
       "      <td>2008-01-01 03:00:00</td>\n",
       "      <td>49.0</td>\n",
       "      <td>14.0</td>\n",
       "      <td>0.019</td>\n",
       "      <td>0.015</td>\n",
       "      <td>0.4</td>\n",
       "      <td>0.007</td>\n",
       "      <td>45.0</td>\n",
       "      <td>55.0</td>\n",
       "    </tr>\n",
       "    <tr>\n",
       "      <th>3</th>\n",
       "      <td>2008-01-01 04:00:00</td>\n",
       "      <td>45.0</td>\n",
       "      <td>15.0</td>\n",
       "      <td>0.020</td>\n",
       "      <td>0.014</td>\n",
       "      <td>0.4</td>\n",
       "      <td>0.007</td>\n",
       "      <td>42.0</td>\n",
       "      <td>57.0</td>\n",
       "    </tr>\n",
       "    <tr>\n",
       "      <th>4</th>\n",
       "      <td>2008-01-01 05:00:00</td>\n",
       "      <td>41.0</td>\n",
       "      <td>15.0</td>\n",
       "      <td>0.020</td>\n",
       "      <td>0.013</td>\n",
       "      <td>0.4</td>\n",
       "      <td>0.007</td>\n",
       "      <td>38.0</td>\n",
       "      <td>57.0</td>\n",
       "    </tr>\n",
       "    <tr>\n",
       "      <th>...</th>\n",
       "      <td>...</td>\n",
       "      <td>...</td>\n",
       "      <td>...</td>\n",
       "      <td>...</td>\n",
       "      <td>...</td>\n",
       "      <td>...</td>\n",
       "      <td>...</td>\n",
       "      <td>...</td>\n",
       "      <td>...</td>\n",
       "    </tr>\n",
       "    <tr>\n",
       "      <th>91656</th>\n",
       "      <td>2018-06-18 07:00:00</td>\n",
       "      <td>46.0</td>\n",
       "      <td>33.0</td>\n",
       "      <td>0.010</td>\n",
       "      <td>0.033</td>\n",
       "      <td>0.5</td>\n",
       "      <td>0.003</td>\n",
       "      <td>43.0</td>\n",
       "      <td>95.0</td>\n",
       "    </tr>\n",
       "    <tr>\n",
       "      <th>91657</th>\n",
       "      <td>2018-06-18 08:00:00</td>\n",
       "      <td>49.0</td>\n",
       "      <td>33.0</td>\n",
       "      <td>0.013</td>\n",
       "      <td>0.037</td>\n",
       "      <td>0.6</td>\n",
       "      <td>0.003</td>\n",
       "      <td>45.0</td>\n",
       "      <td>95.0</td>\n",
       "    </tr>\n",
       "    <tr>\n",
       "      <th>91658</th>\n",
       "      <td>2018-06-18 09:00:00</td>\n",
       "      <td>54.0</td>\n",
       "      <td>37.0</td>\n",
       "      <td>0.022</td>\n",
       "      <td>0.038</td>\n",
       "      <td>0.6</td>\n",
       "      <td>0.004</td>\n",
       "      <td>50.0</td>\n",
       "      <td>105.0</td>\n",
       "    </tr>\n",
       "    <tr>\n",
       "      <th>91659</th>\n",
       "      <td>2018-06-18 10:00:00</td>\n",
       "      <td>62.0</td>\n",
       "      <td>42.0</td>\n",
       "      <td>0.036</td>\n",
       "      <td>0.038</td>\n",
       "      <td>0.6</td>\n",
       "      <td>0.004</td>\n",
       "      <td>54.0</td>\n",
       "      <td>117.0</td>\n",
       "    </tr>\n",
       "    <tr>\n",
       "      <th>91660</th>\n",
       "      <td>2018-06-18 11:00:00</td>\n",
       "      <td>61.0</td>\n",
       "      <td>43.0</td>\n",
       "      <td>0.049</td>\n",
       "      <td>0.035</td>\n",
       "      <td>0.5</td>\n",
       "      <td>0.005</td>\n",
       "      <td>54.0</td>\n",
       "      <td>119.0</td>\n",
       "    </tr>\n",
       "  </tbody>\n",
       "</table>\n",
       "<p>91661 rows × 9 columns</p>\n",
       "</div>"
      ],
      "text/plain": [
       "                  Datetime  PM10_CONC  PM2_5_CONC     O3    NO2   CO    SO2  \\\n",
       "0      2008-01-01 01:00:00       59.0        14.0  0.017  0.017  0.4  0.007   \n",
       "1      2008-01-01 02:00:00       52.0        14.0  0.018  0.016  0.4  0.007   \n",
       "2      2008-01-01 03:00:00       49.0        14.0  0.019  0.015  0.4  0.007   \n",
       "3      2008-01-01 04:00:00       45.0        15.0  0.020  0.014  0.4  0.007   \n",
       "4      2008-01-01 05:00:00       41.0        15.0  0.020  0.013  0.4  0.007   \n",
       "...                    ...        ...         ...    ...    ...  ...    ...   \n",
       "91656  2018-06-18 07:00:00       46.0        33.0  0.010  0.033  0.5  0.003   \n",
       "91657  2018-06-18 08:00:00       49.0        33.0  0.013  0.037  0.6  0.003   \n",
       "91658  2018-06-18 09:00:00       54.0        37.0  0.022  0.038  0.6  0.004   \n",
       "91659  2018-06-18 10:00:00       62.0        42.0  0.036  0.038  0.6  0.004   \n",
       "91660  2018-06-18 11:00:00       61.0        43.0  0.049  0.035  0.5  0.005   \n",
       "\n",
       "       PM10_AQI  PM2_5_AQI  \n",
       "0          53.0       55.0  \n",
       "1          48.0       55.0  \n",
       "2          45.0       55.0  \n",
       "3          42.0       57.0  \n",
       "4          38.0       57.0  \n",
       "...         ...        ...  \n",
       "91656      43.0       95.0  \n",
       "91657      45.0       95.0  \n",
       "91658      50.0      105.0  \n",
       "91659      54.0      117.0  \n",
       "91660      54.0      119.0  \n",
       "\n",
       "[91661 rows x 9 columns]"
      ]
     },
     "execution_count": 3,
     "metadata": {},
     "output_type": "execute_result"
    }
   ],
   "source": [
    "seoul_air"
   ]
  },
  {
   "cell_type": "markdown",
   "id": "a0cec1ae",
   "metadata": {},
   "source": [
    "### 3.2 Check missing values"
   ]
  },
  {
   "cell_type": "code",
   "execution_count": 4,
   "id": "ccfe27b6",
   "metadata": {},
   "outputs": [
    {
     "name": "stdout",
     "output_type": "stream",
     "text": [
      "Datetime 0\n",
      "PM10_CONC 0\n",
      "PM2_5_CONC 0\n",
      "O3 0\n",
      "NO2 0\n",
      "CO 0\n",
      "SO2 0\n",
      "PM10_AQI 0\n",
      "PM2_5_AQI 0\n"
     ]
    }
   ],
   "source": [
    "for c in seoul_air.columns:\n",
    "    print(c, seoul_air[c].isnull().sum())"
   ]
  },
  {
   "cell_type": "code",
   "execution_count": 5,
   "id": "8830c4c7",
   "metadata": {},
   "outputs": [],
   "source": [
    "import seaborn as sns\n",
    "import matplotlib.pyplot as plt"
   ]
  },
  {
   "cell_type": "markdown",
   "id": "2009d287",
   "metadata": {},
   "source": [
    "### 3.3 Check outlier values"
   ]
  },
  {
   "cell_type": "code",
   "execution_count": 6,
   "id": "7f56715f",
   "metadata": {},
   "outputs": [],
   "source": [
    "def check_outliners(seoul_air, c):\n",
    "    col = seoul_air.loc[:,c]\n",
    "    abs_skew = col.skew()\n",
    "    mean_v = col.mean()\n",
    "    median_v = col.median()\n",
    "    q3 = np.nanpercentile(col, 75)\n",
    "    q1 = np.nanpercentile(col, 25)\n",
    "    iqr = (q3 - q1) * 1.5\n",
    "    ceiling = iqr + q3\n",
    "    # floor = q1 - iqr \n",
    "    # col[(col > ceiling) | (col < floor)]\n",
    "    print(\"num of outlier\", c, col[col > ceiling].count())\n",
    "    if abs_skew > 1:\n",
    "        col[col > ceiling] = median_v\n",
    "    else:\n",
    "        col[col > ceiling] = mean_v    "
   ]
  },
  {
   "cell_type": "code",
   "execution_count": 7,
   "id": "3a5926cf",
   "metadata": {},
   "outputs": [
    {
     "name": "stdout",
     "output_type": "stream",
     "text": [
      "num of outlier PM10_CONC 3857\n",
      "num of outlier PM2_5_CONC 3611\n",
      "num of outlier O3 2320\n",
      "num of outlier NO2 766\n",
      "num of outlier CO 9354\n",
      "num of outlier SO2 3913\n"
     ]
    }
   ],
   "source": [
    "for c in seoul_air.columns[1:7]:\n",
    "    check_outliners(seoul_air, c)"
   ]
  },
  {
   "cell_type": "markdown",
   "id": "dc84d918",
   "metadata": {},
   "source": [
    "### 3.4 Plotting"
   ]
  },
  {
   "cell_type": "markdown",
   "id": "6b01ea91",
   "metadata": {},
   "source": [
    "***Plot correlation to first understand feature interactions***"
   ]
  },
  {
   "cell_type": "code",
   "execution_count": 8,
   "id": "ab8b9c65",
   "metadata": {},
   "outputs": [
    {
     "data": {
      "image/png": "[encoded data removed]",
      "text/plain": [
       "<Figure size 720x720 with 2 Axes>"
      ]
     },
     "metadata": {
      "filenames": {
       "image/png": "/home/alexbui/workspace/HandbookForDatascience/_build/jupyter_execute/AirPollution_17_0.png"
      },
      "needs_background": "light"
     },
     "output_type": "display_data"
    }
   ],
   "source": [
    "corr = seoul_air.iloc[:,1:7].corr()\n",
    "fix, ax = plt.subplots(figsize=(10,10))\n",
    "sns.heatmap(corr)\n",
    "plt.show()"
   ]
  },
  {
   "cell_type": "markdown",
   "id": "31332891",
   "metadata": {},
   "source": [
    "***Align 1h to check correlation with previous hour***"
   ]
  },
  {
   "cell_type": "code",
   "execution_count": 9,
   "id": "a00ffbe7",
   "metadata": {},
   "outputs": [],
   "source": [
    "align0 = seoul_air.iloc[:-1,1:7]\n",
    "align0.columns = [c + \"_m1\" for c in align0.columns]\n",
    "align1 = seoul_air.iloc[1:,1:7]\n",
    "align = pd.concat([align1, align0], axis=1)"
   ]
  },
  {
   "cell_type": "code",
   "execution_count": 10,
   "id": "8b6e7d8b",
   "metadata": {},
   "outputs": [
    {
     "data": {
      "image/png": "[encoded data removed]",
      "text/plain": [
       "<Figure size 720x720 with 2 Axes>"
      ]
     },
     "metadata": {
      "filenames": {
       "image/png": "/home/alexbui/workspace/HandbookForDatascience/_build/jupyter_execute/AirPollution_20_0.png"
      },
      "needs_background": "light"
     },
     "output_type": "display_data"
    }
   ],
   "source": [
    "align_corr = align.corr()\n",
    "fig, ax = plt.subplots(figsize=(10,10))\n",
    "sns.heatmap(align_corr)\n",
    "plt.show()"
   ]
  },
  {
   "cell_type": "markdown",
   "id": "88e5aa52",
   "metadata": {},
   "source": [
    "***Align 4h to check correlation with 4 hours ago***"
   ]
  },
  {
   "cell_type": "code",
   "execution_count": 11,
   "id": "515e3472",
   "metadata": {},
   "outputs": [],
   "source": [
    "align04 = seoul_air.iloc[:-4,1:7]\n",
    "align04.columns = [c + \"_m4\" for c in align04.columns]\n",
    "align14 = seoul_air.iloc[4:,1:7]\n",
    "align4 = pd.concat([align14, align04], axis=1)"
   ]
  },
  {
   "cell_type": "code",
   "execution_count": 12,
   "id": "9cbbd6d5",
   "metadata": {},
   "outputs": [
    {
     "data": {
      "image/png": "[encoded data removed]",
      "text/plain": [
       "<Figure size 720x720 with 2 Axes>"
      ]
     },
     "metadata": {
      "filenames": {
       "image/png": "/home/alexbui/workspace/HandbookForDatascience/_build/jupyter_execute/AirPollution_23_0.png"
      },
      "needs_background": "light"
     },
     "output_type": "display_data"
    }
   ],
   "source": [
    "align_corr4 = align4.corr()\n",
    "fig, ax = plt.subplots(figsize=(10,10))\n",
    "sns.heatmap(align_corr4)\n",
    "plt.show()"
   ]
  },
  {
   "cell_type": "markdown",
   "id": "732b9045",
   "metadata": {},
   "source": [
    "## 4. Model Construction"
   ]
  },
  {
   "cell_type": "markdown",
   "id": "87b7a1cc",
   "metadata": {},
   "source": [
    "## 5. Explain the Results"
   ]
  }
 ],
 "metadata": {
  "jupytext": {
   "text_representation": {
    "extension": ".md",
    "format_name": "myst",
    "format_version": 0.13,
    "jupytext_version": "1.13.8"
   }
  },
  "kernelspec": {
   "display_name": "Python 3.8.11 ('pyg')",
   "language": "python",
   "name": "python3"
  },
  "language_info": {
   "codemirror_mode": {
    "name": "ipython",
    "version": 3
   },
   "file_extension": ".py",
   "mimetype": "text/x-python",
   "name": "python",
   "nbconvert_exporter": "python",
   "pygments_lexer": "ipython3",
   "version": "3.8.5"
  },
  "source_map": [
   12,
   16,
   22,
   37,
   65,
   69,
   72,
   78,
   82,
   84,
   88,
   93,
   96,
   100,
   119,
   122,
   126,
   130,
   135,
   139,
   146,
   151,
   155,
   162,
   167,
   171
  ]
 },
 "nbformat": 4,
 "nbformat_minor": 5
}