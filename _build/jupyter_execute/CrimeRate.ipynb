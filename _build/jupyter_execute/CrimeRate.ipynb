{
 "cells": [
  {
   "cell_type": "markdown",
   "id": "591adb6a",
   "metadata": {},
   "source": [
    "# Crime Rate Analysis"
   ]
  },
  {
   "cell_type": "code",
   "execution_count": 1,
   "id": "10bf482e",
   "metadata": {},
   "outputs": [],
   "source": [
    "folder = \"./data/crime_rate\""
   ]
  },
  {
   "cell_type": "code",
   "execution_count": 2,
   "id": "fcbeead8",
   "metadata": {},
   "outputs": [],
   "source": [
    "import pandas as pd"
   ]
  },
  {
   "cell_type": "markdown",
   "id": "7f2973c5",
   "metadata": {},
   "source": [
    "## 1. Data loading & preparation\n",
    "\n",
    "- Property_crime = burglary + larcency + motor_vehicle_theft\n",
    "- We will remove these three columns and recalculate total_crime & overall crime rate"
   ]
  },
  {
   "cell_type": "code",
   "execution_count": 3,
   "id": "f74ea0e4",
   "metadata": {},
   "outputs": [
    {
     "ename": "FileNotFoundError",
     "evalue": "[Errno 2] No such file or directory: './data/crime_rate/estimated_crimes.csv'",
     "output_type": "error",
     "traceback": [
      "\u001b[0;31m---------------------------------------------------------------------------\u001b[0m",
      "\u001b[0;31mFileNotFoundError\u001b[0m                         Traceback (most recent call last)",
      "\u001b[0;32m<ipython-input-3-6cc5149f2872>\u001b[0m in \u001b[0;36m<module>\u001b[0;34m\u001b[0m\n\u001b[0;32m----> 1\u001b[0;31m \u001b[0mcr_data\u001b[0m \u001b[0;34m=\u001b[0m \u001b[0mpd\u001b[0m\u001b[0;34m.\u001b[0m\u001b[0mread_csv\u001b[0m\u001b[0;34m(\u001b[0m\u001b[0mfolder\u001b[0m \u001b[0;34m+\u001b[0m \u001b[0;34m\"/estimated_crimes.csv\"\u001b[0m\u001b[0;34m)\u001b[0m\u001b[0;34m\u001b[0m\u001b[0;34m\u001b[0m\u001b[0m\n\u001b[0m",
      "\u001b[0;32m~/anaconda3/lib/python3.8/site-packages/pandas/util/_decorators.py\u001b[0m in \u001b[0;36mwrapper\u001b[0;34m(*args, **kwargs)\u001b[0m\n\u001b[1;32m    309\u001b[0m                     \u001b[0mstacklevel\u001b[0m\u001b[0;34m=\u001b[0m\u001b[0mstacklevel\u001b[0m\u001b[0;34m,\u001b[0m\u001b[0;34m\u001b[0m\u001b[0;34m\u001b[0m\u001b[0m\n\u001b[1;32m    310\u001b[0m                 )\n\u001b[0;32m--> 311\u001b[0;31m             \u001b[0;32mreturn\u001b[0m \u001b[0mfunc\u001b[0m\u001b[0;34m(\u001b[0m\u001b[0;34m*\u001b[0m\u001b[0margs\u001b[0m\u001b[0;34m,\u001b[0m \u001b[0;34m**\u001b[0m\u001b[0mkwargs\u001b[0m\u001b[0;34m)\u001b[0m\u001b[0;34m\u001b[0m\u001b[0;34m\u001b[0m\u001b[0m\n\u001b[0m\u001b[1;32m    312\u001b[0m \u001b[0;34m\u001b[0m\u001b[0m\n\u001b[1;32m    313\u001b[0m         \u001b[0;32mreturn\u001b[0m \u001b[0mwrapper\u001b[0m\u001b[0;34m\u001b[0m\u001b[0;34m\u001b[0m\u001b[0m\n",
      "\u001b[0;32m~/anaconda3/lib/python3.8/site-packages/pandas/io/parsers/readers.py\u001b[0m in \u001b[0;36mread_csv\u001b[0;34m(filepath_or_buffer, sep, delimiter, header, names, index_col, usecols, squeeze, prefix, mangle_dupe_cols, dtype, engine, converters, true_values, false_values, skipinitialspace, skiprows, skipfooter, nrows, na_values, keep_default_na, na_filter, verbose, skip_blank_lines, parse_dates, infer_datetime_format, keep_date_col, date_parser, dayfirst, cache_dates, iterator, chunksize, compression, thousands, decimal, lineterminator, quotechar, quoting, doublequote, escapechar, comment, encoding, encoding_errors, dialect, error_bad_lines, warn_bad_lines, on_bad_lines, delim_whitespace, low_memory, memory_map, float_precision, storage_options)\u001b[0m\n\u001b[1;32m    584\u001b[0m     \u001b[0mkwds\u001b[0m\u001b[0;34m.\u001b[0m\u001b[0mupdate\u001b[0m\u001b[0;34m(\u001b[0m\u001b[0mkwds_defaults\u001b[0m\u001b[0;34m)\u001b[0m\u001b[0;34m\u001b[0m\u001b[0;34m\u001b[0m\u001b[0m\n\u001b[1;32m    585\u001b[0m \u001b[0;34m\u001b[0m\u001b[0m\n\u001b[0;32m--> 586\u001b[0;31m     \u001b[0;32mreturn\u001b[0m \u001b[0m_read\u001b[0m\u001b[0;34m(\u001b[0m\u001b[0mfilepath_or_buffer\u001b[0m\u001b[0;34m,\u001b[0m \u001b[0mkwds\u001b[0m\u001b[0;34m)\u001b[0m\u001b[0;34m\u001b[0m\u001b[0;34m\u001b[0m\u001b[0m\n\u001b[0m\u001b[1;32m    587\u001b[0m \u001b[0;34m\u001b[0m\u001b[0m\n\u001b[1;32m    588\u001b[0m \u001b[0;34m\u001b[0m\u001b[0m\n",
      "\u001b[0;32m~/anaconda3/lib/python3.8/site-packages/pandas/io/parsers/readers.py\u001b[0m in \u001b[0;36m_read\u001b[0;34m(filepath_or_buffer, kwds)\u001b[0m\n\u001b[1;32m    480\u001b[0m \u001b[0;34m\u001b[0m\u001b[0m\n\u001b[1;32m    481\u001b[0m     \u001b[0;31m# Create the parser.\u001b[0m\u001b[0;34m\u001b[0m\u001b[0;34m\u001b[0m\u001b[0;34m\u001b[0m\u001b[0m\n\u001b[0;32m--> 482\u001b[0;31m     \u001b[0mparser\u001b[0m \u001b[0;34m=\u001b[0m \u001b[0mTextFileReader\u001b[0m\u001b[0;34m(\u001b[0m\u001b[0mfilepath_or_buffer\u001b[0m\u001b[0;34m,\u001b[0m \u001b[0;34m**\u001b[0m\u001b[0mkwds\u001b[0m\u001b[0;34m)\u001b[0m\u001b[0;34m\u001b[0m\u001b[0;34m\u001b[0m\u001b[0m\n\u001b[0m\u001b[1;32m    483\u001b[0m \u001b[0;34m\u001b[0m\u001b[0m\n\u001b[1;32m    484\u001b[0m     \u001b[0;32mif\u001b[0m \u001b[0mchunksize\u001b[0m \u001b[0;32mor\u001b[0m \u001b[0miterator\u001b[0m\u001b[0;34m:\u001b[0m\u001b[0;34m\u001b[0m\u001b[0;34m\u001b[0m\u001b[0m\n",
      "\u001b[0;32m~/anaconda3/lib/python3.8/site-packages/pandas/io/parsers/readers.py\u001b[0m in \u001b[0;36m__init__\u001b[0;34m(self, f, engine, **kwds)\u001b[0m\n\u001b[1;32m    809\u001b[0m             \u001b[0mself\u001b[0m\u001b[0;34m.\u001b[0m\u001b[0moptions\u001b[0m\u001b[0;34m[\u001b[0m\u001b[0;34m\"has_index_names\"\u001b[0m\u001b[0;34m]\u001b[0m \u001b[0;34m=\u001b[0m \u001b[0mkwds\u001b[0m\u001b[0;34m[\u001b[0m\u001b[0;34m\"has_index_names\"\u001b[0m\u001b[0;34m]\u001b[0m\u001b[0;34m\u001b[0m\u001b[0;34m\u001b[0m\u001b[0m\n\u001b[1;32m    810\u001b[0m \u001b[0;34m\u001b[0m\u001b[0m\n\u001b[0;32m--> 811\u001b[0;31m         \u001b[0mself\u001b[0m\u001b[0;34m.\u001b[0m\u001b[0m_engine\u001b[0m \u001b[0;34m=\u001b[0m \u001b[0mself\u001b[0m\u001b[0;34m.\u001b[0m\u001b[0m_make_engine\u001b[0m\u001b[0;34m(\u001b[0m\u001b[0mself\u001b[0m\u001b[0;34m.\u001b[0m\u001b[0mengine\u001b[0m\u001b[0;34m)\u001b[0m\u001b[0;34m\u001b[0m\u001b[0;34m\u001b[0m\u001b[0m\n\u001b[0m\u001b[1;32m    812\u001b[0m \u001b[0;34m\u001b[0m\u001b[0m\n\u001b[1;32m    813\u001b[0m     \u001b[0;32mdef\u001b[0m \u001b[0mclose\u001b[0m\u001b[0;34m(\u001b[0m\u001b[0mself\u001b[0m\u001b[0;34m)\u001b[0m\u001b[0;34m:\u001b[0m\u001b[0;34m\u001b[0m\u001b[0;34m\u001b[0m\u001b[0m\n",
      "\u001b[0;32m~/anaconda3/lib/python3.8/site-packages/pandas/io/parsers/readers.py\u001b[0m in \u001b[0;36m_make_engine\u001b[0;34m(self, engine)\u001b[0m\n\u001b[1;32m   1038\u001b[0m             )\n\u001b[1;32m   1039\u001b[0m         \u001b[0;31m# error: Too many arguments for \"ParserBase\"\u001b[0m\u001b[0;34m\u001b[0m\u001b[0;34m\u001b[0m\u001b[0;34m\u001b[0m\u001b[0m\n\u001b[0;32m-> 1040\u001b[0;31m         \u001b[0;32mreturn\u001b[0m \u001b[0mmapping\u001b[0m\u001b[0;34m[\u001b[0m\u001b[0mengine\u001b[0m\u001b[0;34m]\u001b[0m\u001b[0;34m(\u001b[0m\u001b[0mself\u001b[0m\u001b[0;34m.\u001b[0m\u001b[0mf\u001b[0m\u001b[0;34m,\u001b[0m \u001b[0;34m**\u001b[0m\u001b[0mself\u001b[0m\u001b[0;34m.\u001b[0m\u001b[0moptions\u001b[0m\u001b[0;34m)\u001b[0m  \u001b[0;31m# type: ignore[call-arg]\u001b[0m\u001b[0;34m\u001b[0m\u001b[0;34m\u001b[0m\u001b[0m\n\u001b[0m\u001b[1;32m   1041\u001b[0m \u001b[0;34m\u001b[0m\u001b[0m\n\u001b[1;32m   1042\u001b[0m     \u001b[0;32mdef\u001b[0m \u001b[0m_failover_to_python\u001b[0m\u001b[0;34m(\u001b[0m\u001b[0mself\u001b[0m\u001b[0;34m)\u001b[0m\u001b[0;34m:\u001b[0m\u001b[0;34m\u001b[0m\u001b[0;34m\u001b[0m\u001b[0m\n",
      "\u001b[0;32m~/anaconda3/lib/python3.8/site-packages/pandas/io/parsers/c_parser_wrapper.py\u001b[0m in \u001b[0;36m__init__\u001b[0;34m(self, src, **kwds)\u001b[0m\n\u001b[1;32m     49\u001b[0m \u001b[0;34m\u001b[0m\u001b[0m\n\u001b[1;32m     50\u001b[0m         \u001b[0;31m# open handles\u001b[0m\u001b[0;34m\u001b[0m\u001b[0;34m\u001b[0m\u001b[0;34m\u001b[0m\u001b[0m\n\u001b[0;32m---> 51\u001b[0;31m         \u001b[0mself\u001b[0m\u001b[0;34m.\u001b[0m\u001b[0m_open_handles\u001b[0m\u001b[0;34m(\u001b[0m\u001b[0msrc\u001b[0m\u001b[0;34m,\u001b[0m \u001b[0mkwds\u001b[0m\u001b[0;34m)\u001b[0m\u001b[0;34m\u001b[0m\u001b[0;34m\u001b[0m\u001b[0m\n\u001b[0m\u001b[1;32m     52\u001b[0m         \u001b[0;32massert\u001b[0m \u001b[0mself\u001b[0m\u001b[0;34m.\u001b[0m\u001b[0mhandles\u001b[0m \u001b[0;32mis\u001b[0m \u001b[0;32mnot\u001b[0m \u001b[0;32mNone\u001b[0m\u001b[0;34m\u001b[0m\u001b[0;34m\u001b[0m\u001b[0m\n\u001b[1;32m     53\u001b[0m \u001b[0;34m\u001b[0m\u001b[0m\n",
      "\u001b[0;32m~/anaconda3/lib/python3.8/site-packages/pandas/io/parsers/base_parser.py\u001b[0m in \u001b[0;36m_open_handles\u001b[0;34m(self, src, kwds)\u001b[0m\n\u001b[1;32m    220\u001b[0m         \u001b[0mLet\u001b[0m \u001b[0mthe\u001b[0m \u001b[0mreaders\u001b[0m \u001b[0mopen\u001b[0m \u001b[0mIOHandles\u001b[0m \u001b[0mafter\u001b[0m \u001b[0mthey\u001b[0m \u001b[0mare\u001b[0m \u001b[0mdone\u001b[0m \u001b[0;32mwith\u001b[0m \u001b[0mtheir\u001b[0m \u001b[0mpotential\u001b[0m \u001b[0mraises\u001b[0m\u001b[0;34m.\u001b[0m\u001b[0;34m\u001b[0m\u001b[0;34m\u001b[0m\u001b[0m\n\u001b[1;32m    221\u001b[0m         \"\"\"\n\u001b[0;32m--> 222\u001b[0;31m         self.handles = get_handle(\n\u001b[0m\u001b[1;32m    223\u001b[0m             \u001b[0msrc\u001b[0m\u001b[0;34m,\u001b[0m\u001b[0;34m\u001b[0m\u001b[0;34m\u001b[0m\u001b[0m\n\u001b[1;32m    224\u001b[0m             \u001b[0;34m\"r\"\u001b[0m\u001b[0;34m,\u001b[0m\u001b[0;34m\u001b[0m\u001b[0;34m\u001b[0m\u001b[0m\n",
      "\u001b[0;32m~/anaconda3/lib/python3.8/site-packages/pandas/io/common.py\u001b[0m in \u001b[0;36mget_handle\u001b[0;34m(path_or_buf, mode, encoding, compression, memory_map, is_text, errors, storage_options)\u001b[0m\n\u001b[1;32m    700\u001b[0m         \u001b[0;32mif\u001b[0m \u001b[0mioargs\u001b[0m\u001b[0;34m.\u001b[0m\u001b[0mencoding\u001b[0m \u001b[0;32mand\u001b[0m \u001b[0;34m\"b\"\u001b[0m \u001b[0;32mnot\u001b[0m \u001b[0;32min\u001b[0m \u001b[0mioargs\u001b[0m\u001b[0;34m.\u001b[0m\u001b[0mmode\u001b[0m\u001b[0;34m:\u001b[0m\u001b[0;34m\u001b[0m\u001b[0;34m\u001b[0m\u001b[0m\n\u001b[1;32m    701\u001b[0m             \u001b[0;31m# Encoding\u001b[0m\u001b[0;34m\u001b[0m\u001b[0;34m\u001b[0m\u001b[0;34m\u001b[0m\u001b[0m\n\u001b[0;32m--> 702\u001b[0;31m             handle = open(\n\u001b[0m\u001b[1;32m    703\u001b[0m                 \u001b[0mhandle\u001b[0m\u001b[0;34m,\u001b[0m\u001b[0;34m\u001b[0m\u001b[0;34m\u001b[0m\u001b[0m\n\u001b[1;32m    704\u001b[0m                 \u001b[0mioargs\u001b[0m\u001b[0;34m.\u001b[0m\u001b[0mmode\u001b[0m\u001b[0;34m,\u001b[0m\u001b[0;34m\u001b[0m\u001b[0;34m\u001b[0m\u001b[0m\n",
      "\u001b[0;31mFileNotFoundError\u001b[0m: [Errno 2] No such file or directory: './data/crime_rate/estimated_crimes.csv'"
     ]
    }
   ],
   "source": [
    "cr_data = pd.read_csv(folder + \"/estimated_crimes.csv\")"
   ]
  },
  {
   "cell_type": "code",
   "execution_count": null,
   "id": "417677bd",
   "metadata": {},
   "outputs": [],
   "source": [
    "cr_data = cr_data[cr_data['year'] <= 2019]\n",
    "cr_data.rename(columns={'state_name':'state name'}, inplace=True)\n",
    "cr_data.drop(['burglary', 'larceny', 'motor_vehicle_theft'], axis=1, inplace=True)"
   ]
  },
  {
   "cell_type": "code",
   "execution_count": null,
   "id": "8f281887",
   "metadata": {},
   "outputs": [],
   "source": [
    "cr_data['total crime'] = cr_data['violent_crime'] + cr_data['homicide'] \\\n",
    "                            + cr_data['robbery'] + cr_data['aggravated_assault'] + cr_data['property_crime']\n",
    "cr_data['overall crime rate'] = cr_data['total crime'] / cr_data['population']"
   ]
  },
  {
   "cell_type": "code",
   "execution_count": null,
   "id": "3a7d972c",
   "metadata": {},
   "outputs": [],
   "source": [
    "cr_data"
   ]
  },
  {
   "cell_type": "code",
   "execution_count": null,
   "id": "6a45d536",
   "metadata": {},
   "outputs": [],
   "source": [
    "demography = pd.read_csv(folder + \"/demography.csv\")\n",
    "demography.columns = [c.lower() for c in demography.columns]"
   ]
  },
  {
   "cell_type": "markdown",
   "id": "b3dd17e3",
   "metadata": {},
   "source": [
    "We will remove all columns with absolute values as we want to estimate crime rate."
   ]
  },
  {
   "cell_type": "code",
   "execution_count": null,
   "id": "0b34d28f",
   "metadata": {},
   "outputs": [],
   "source": [
    "def remove_absolute_columns(df, keeps):\n",
    "    rm_cols = [c for c in df.columns if not c in keeps and not 'percent' in c]\n",
    "    df.drop(rm_cols, axis=1, inplace=True)\n",
    "\n",
    "def clean_column_name(df):\n",
    "    cols = df.columns\n",
    "    new_cols = []\n",
    "    for c in cols:\n",
    "        c = c.replace(\"percent!!percentage of\",\"\")\\\n",
    "            .replace(\"percent of\", \"\")\\\n",
    "            .replace(\"percent in \",\"\")\\\n",
    "            .replace(\"percent\",\"\")\n",
    "        if c[0] == ' ':\n",
    "            c = c[1:]\n",
    "        new_cols.append(c)\n",
    "    df.columns = new_cols"
   ]
  },
  {
   "cell_type": "code",
   "execution_count": null,
   "id": "7dbcbc2b",
   "metadata": {},
   "outputs": [],
   "source": [
    "keeps = ['year', 'state name', 'total population']\n",
    "remove_absolute_columns(demography, keeps)"
   ]
  },
  {
   "cell_type": "code",
   "execution_count": null,
   "id": "4da86cf9",
   "metadata": {},
   "outputs": [],
   "source": [
    "clean_column_name(demography)"
   ]
  },
  {
   "cell_type": "code",
   "execution_count": null,
   "id": "0838b530",
   "metadata": {},
   "outputs": [],
   "source": [
    "demography"
   ]
  },
  {
   "cell_type": "markdown",
   "id": "b18de189",
   "metadata": {},
   "source": [
    "***Load economic data***"
   ]
  },
  {
   "cell_type": "code",
   "execution_count": null,
   "id": "4159f129",
   "metadata": {},
   "outputs": [],
   "source": [
    "economics = pd.read_csv(folder + \"/economics.csv\")\n",
    "economics.columns = [c.lower() for c in economics.columns]\n",
    "remove_absolute_columns(economics, ['state name', 'year', 'population 16 years and over'])\n",
    "economics.drop(['percent of civilian labor force','percent!!income and benefits !!less than $10,000',\\\n",
    "            'percent!!income and benefits !!$10,000 to $14,999','percent!!income and benefits !!$15,000 to $24,999',\\\n",
    "            'percent!!income and benefits !!$25,000 to $34,999','percent!!income and benefits !!$35,000 to $49,999',\\\n",
    "            'percent!!income and benefits !!$50,000 to $74,999','percent!!income and benefits !!$75,000 to $99,999',\\\n",
    "            'percent!!income and benefits !!$100,000 to $149,999','percent!!income and benefits !!$150,000 to $199,999',\\\n",
    "            'percent!!income and benefits !!$200,000 or more'], axis=1, inplace=True)\n",
    "clean_column_name(economics)"
   ]
  },
  {
   "cell_type": "code",
   "execution_count": null,
   "id": "10aab0fa",
   "metadata": {},
   "outputs": [],
   "source": [
    "eco_new_names = {\n",
    "'income and benefits total households' : 'total inc & bnf',\n",
    "'income and benefits less than $10,000' : 'inc & bnf lt 10k',\n",
    "'income and benefits $10,000 to $14,999' : 'inc & bnf 10k-14.9K',\n",
    "'income and benefits $15,000 to $24,999' : 'inc & bnf 15k-24.9K',\n",
    "'income and benefits $25,000 to $34,999' : 'inc & bnf 25k-34.9K',\n",
    "'income and benefits $35,000 to $49,999' : 'inc & bnf 35k-49.9K',\n",
    "'income and benefits $50,000 to $74,999' : 'inc & bnf 50k-74.9K',\n",
    "'income and benefits $75,000 to $99,999' : 'inc & bnf 75k-99.9K',\n",
    "'income and benefits $100,000 to $149,999' : 'inc & bnf 100k-149.9K',\n",
    "'income and benefits $150,000 to $199,999' : 'inc & bnf 150k-199.9K',\n",
    "'income and benefits $200,000 or more' : 'inc & bnf 200k or more',\n",
    "'income and benefits with earnings' : 'inc & bnf w/ earnings',\n",
    "'income and benefits with social security' : 'inc & bnf w/ social security',\n",
    "'income and benefits with retirement income' : 'inc & bnf w/ retirement inc',\n",
    "'!!income and benefits !!with supplemental security income' : 'inc & bnf w/ supplemental security inc',\n",
    "'!!income and benefits !!with cash public assistance income' : 'inc & bnf w/ cash public assistance inc',\n",
    "'!!income and benefits !!with food stamp/snap benefits in the past 12 months' : 'inc & bnf w/ food stamp/snap benefits',\n",
    "'!!income and benefits !!families' : 'inc & bnf families',\n",
    "'!!income and benefits !!nonfamily households' : 'inc & bnf nonfamily households',\n",
    "'!!health insurance coverage!!civilian noninstitutionalized population':'civilian noninstitutionalized elibible for h_ins',\n",
    "'!!health insurance coverage!!civilian noninstitutionalized population under 18 years':'civilian noninstitutionalized u18 elibible for h_ins',\n",
    "'!!health insurance coverage!!no health insurance coverage':'no h_ins cvrge',\n",
    "'!!health insurance coverage!!civilian noninstitutionalized population 18 to 64 years':'civilian noninstitutionalized 18-64 eligible for h_ins',\n",
    "'!!health insurance coverage!!in labor force':'in lbr eligible for h_ins',\n",
    "'!!health insurance coverage!!in labor force!!employed':'empl eligible for h_ins',\n",
    "'!!health insurance coverage!!in labor force!!employed!!with health insurance coverage':'empl w/ h_ins',\n",
    "'!!health insurance coverage!!in labor force!!employed!!with health insurance coverage!!with private health insurance':'empl w/ private h_ins',\n",
    "'!!health insurance coverage!!in labor force!!employed!!with health insurance coverage!!with public coverage':'empl w/ public h_ins',\n",
    "'!!health insurance coverage!!in labor force!!employed!!no health insurance coverage':'empl w/o h_ins cvrge',\n",
    "'!!health insurance coverage!!in labor force!!unemployed':'unempl elibible for h_ins',\n",
    "'!!health insurance coverage!!in labor force!!unemployed!!with health insurance coverage':'unempl w/ h_ins cvrge',\n",
    "'!!health insurance coverage!!in labor force!!unemployed!!with health insurance coverage!!with private health insurance':'unempl w/ private h_ins',\n",
    "'!!health insurance coverage!!in labor force!!unemployed!!with health insurance coverage!!with public coverage':'unempl w/ public h_ins',\n",
    "'!!health insurance coverage!!in labor force!!unemployed!!no health insurance coverage':'unempl w/o h_ins',\n",
    "'!!health insurance coverage!!not in labor force':'not in lbr eligible for h_ins',\n",
    "'!!health insurance coverage!!not in labor force!!with health insurance coverage':'not in lbr w/ h_ins',\n",
    "'!!health insurance coverage!!not in labor force!!with health insurance coverage!!with private health insurance':'not in lbr w/ private h_ins',\n",
    "'!!health insurance coverage!!not in labor force!!with health insurance coverage!!with public coverage':'not in lbr w/ public h_ins',\n",
    "'!!health insurance coverage!!not in labor force!!no health insurance coverage':'not in lbr w/o h_ins',\n",
    "'families and people whose income in the past 12 months is below the poverty level!!all families!!with related children under 18 years': 'fm_pp inc(12m) lt pvt lv (all families & rel children u18)',\n",
    "'families and people whose income in the past 12 months is below the poverty level!!all families!!with related children under 18 years!!with related children under 5 years only': 'fm_pp inc(12m) lt pvt lv (all families & rel children u5)',\n",
    "'families and people whose income in the past 12 months is below the poverty level!!married couple families': 'fm_pp inc(12m) lt pvt lv (married)',\n",
    "'families and people whose income in the past 12 months is below the poverty level!!married couple families!!with related children under 18 years': 'fm_pp inc(12m) lt pvt lv (married & rel children u18)',\n",
    "'families and people whose income in the past 12 months is below the poverty level!!married couple families!!with related children under 18 years!!with related children under 5 years only': 'fm_pp inc(12m) lt pvt lv (married & rel children u5)',\n",
    "'families and people whose income in the past 12 months is below the poverty level!!families with female householder, no husband present': 'fm_pp inc(12m) lt pvt lv (no husband)',\n",
    "'families and people whose income in the past 12 months is below the poverty level!!families with female householder, no husband present!!with related children under 18 years': 'fm_pp inc(12m) lt pvt lv (no husband & rel children u18)',\n",
    "'families and people whose income in the past 12 months is below the poverty level!!families with female householder, no husband present!!with related children under 18 years!!with related children under 5 years only': 'fm_pp inc(12m) lt pvt lv (no husband & rel children u5)',\n",
    "'families and people whose income in the past 12 months is below the poverty level!!under 18 years!!related children under 18 years': 'fm_pp inc(12m) lt pvt lv (rel children u18)',\n",
    "'families and people whose income in the past 12 months is below the poverty level!!under 18 years!!related children under 18 years!!related children under 5 years': 'fm_pp inc(12m) lt pvt lv (rel children u5)',\n",
    "'families and people whose income in the past 12 months is below the poverty level!!under 18 years!!related children under 18 years!!related children 5 to 17 years': 'fm_pp inc(12m) lt pvt lv (rel children 5-17)',\n",
    "'families and people whose income in the past 12 months is below the poverty level!!18 years and over': 'fm_pp inc(12m) lt pvt lv (rel o18)',\n",
    "'families and people whose income in the past 12 months is below the poverty level!!18 years and over!!65 years and over': 'fm_pp inc(12m) lt pvt lv (rel o65)',\n",
    "'families and people whose income in the past 12 months is below the poverty level!!people in families': 'fm_pp inc(12m) lt pvt lv (rel)',\n",
    "'families and people whose income in the past 12 months is below the poverty level!!unrelated individuals 15 years and over': 'fm_pp inc(12m) lt pvt lv (unrel o15)'\n",
    "}\n",
    "economics.rename(columns=eco_new_names, inplace=True)"
   ]
  },
  {
   "cell_type": "markdown",
   "id": "0f22df04",
   "metadata": {},
   "source": [
    "***Load social characteristic data***"
   ]
  },
  {
   "cell_type": "code",
   "execution_count": null,
   "id": "0d5eb934",
   "metadata": {},
   "outputs": [],
   "source": [
    "social = pd.read_csv(folder + \"/social_characteristics.csv\")\n",
    "social.columns = [c.lower() for c in social.columns]\n",
    "clean_column_name(social)"
   ]
  },
  {
   "cell_type": "code",
   "execution_count": null,
   "id": "62f3e98e",
   "metadata": {},
   "outputs": [],
   "source": [
    "social"
   ]
  },
  {
   "cell_type": "markdown",
   "id": "32656dd1",
   "metadata": {},
   "source": [
    "***Merge all together***"
   ]
  },
  {
   "cell_type": "code",
   "execution_count": null,
   "id": "de615773",
   "metadata": {},
   "outputs": [],
   "source": [
    "merge_data = cr_data.set_index(['year', 'state name']) \\\n",
    "                    .join(demography.set_index(['year', 'state name']), how='left') \\\n",
    "                    .join(economics.set_index(['year', 'state name']), how='left') \\\n",
    "                    .join(social.set_index(['year', 'state name']), how='left')"
   ]
  },
  {
   "cell_type": "code",
   "execution_count": null,
   "id": "71f3f8f2",
   "metadata": {},
   "outputs": [],
   "source": [
    "merged_columns = merge_data.columns\n",
    "sc = set([])\n",
    "for c in merged_columns:\n",
    "    indices = merge_data[merge_data[c].isnull()].index\n",
    "    merge_data.drop(indices, axis=0, inplace=True)"
   ]
  },
  {
   "cell_type": "markdown",
   "id": "ec176af1",
   "metadata": {},
   "source": [
    "***1. We look at the data correlation***\n",
    "\n",
    "Correlation matrix presents the association of attributes. We can filter out columns which are lowly correlated with the target. Nevertheless, correlation is not causation [1]. For example, as you can see population is highly correlated with all types of crimes. However, can you state that a high crime rate is caused by a large population size?\n",
    "\n",
    "[1] The book of why, Judea Pearl"
   ]
  },
  {
   "cell_type": "code",
   "execution_count": null,
   "id": "b3a8b333",
   "metadata": {},
   "outputs": [],
   "source": [
    "data_corr = merge_data.corr()\n",
    "data_corr"
   ]
  },
  {
   "cell_type": "code",
   "execution_count": null,
   "id": "46f3440c",
   "metadata": {},
   "outputs": [],
   "source": [
    "import seaborn as sns\n",
    "import matplotlib.pyplot as plt"
   ]
  },
  {
   "cell_type": "code",
   "execution_count": null,
   "id": "f429f5da",
   "metadata": {},
   "outputs": [],
   "source": [
    "merge_data_cp = merge_data.copy()\n",
    "merge_data_cp['total crime per 1k population'] = merge_data['total crime'] / merge_data['population'] * 1000"
   ]
  },
  {
   "cell_type": "code",
   "execution_count": null,
   "id": "6ade529c",
   "metadata": {},
   "outputs": [],
   "source": [
    "fig, ax = plt.subplots(figsize=(5, 5))\n",
    "sns.histplot(data=merge_data_cp, x='total crime per 1k population', ax=ax)\n",
    "ax.set_title('Total Crime')"
   ]
  },
  {
   "cell_type": "markdown",
   "id": "cf3a63fc",
   "metadata": {},
   "source": [
    "***2. Filter columns w/ threshold***"
   ]
  },
  {
   "cell_type": "code",
   "execution_count": null,
   "id": "4b59d2ad",
   "metadata": {},
   "outputs": [],
   "source": [
    "crime_names = [\"violent_crime\",\"homicide\",\"robbery\",\"aggravated_assault\",\"property_crime\"]"
   ]
  },
  {
   "cell_type": "code",
   "execution_count": null,
   "id": "7ccdf60a",
   "metadata": {},
   "outputs": [],
   "source": [
    "columns = data_corr[(data_corr['total crime'] >= 0.1) | (data_corr['total crime'] <= -0.1)]['total crime']"
   ]
  },
  {
   "cell_type": "markdown",
   "id": "95849e37",
   "metadata": {},
   "source": [
    "## 2. Crime Rate Analysis with all US data"
   ]
  },
  {
   "cell_type": "markdown",
   "id": "a6b68b10",
   "metadata": {},
   "source": [
    "### 2.1. Prepare training data\n",
    "\n",
    "Using data from previous year to predict the next year crime rate"
   ]
  },
  {
   "cell_type": "code",
   "execution_count": null,
   "id": "d2d592dd",
   "metadata": {},
   "outputs": [],
   "source": [
    "def get_train_test_data(selected_data):\n",
    "    train_data = selected_data[(selected_data['year'] >= 2010) & (selected_data['year'] < 2018)] \\\n",
    "                            .sort_values(by=['state name', 'year']) \\\n",
    "                            .drop(['state name', 'year'], axis=1)\n",
    "    test_data = selected_data[(selected_data['year'] >= 2018) & (selected_data['year'] < 2019)] \\\n",
    "                            .sort_values(by=['state name', 'year']) \\\n",
    "                            .drop(['state name', 'year'], axis=1)\n",
    "    return train_data, test_data"
   ]
  },
  {
   "cell_type": "code",
   "execution_count": null,
   "id": "668e1329",
   "metadata": {},
   "outputs": [],
   "source": [
    "def get_train_test_label(target_label, lb='overall crime rate'):\n",
    "    train_label = target_label[target_label['year'] < 2019].sort_values(by=['state name', 'year'])[lb]\n",
    "    test_label = target_label[target_label['year'] == 2019].sort_values(by=['state name', 'year'])[lb]\n",
    "    return train_label, test_label"
   ]
  },
  {
   "cell_type": "code",
   "execution_count": null,
   "id": "a574f85a",
   "metadata": {},
   "outputs": [],
   "source": [
    "def extract_label(merge_data, lb='overall crime rate'):\n",
    "    target_label = merge_data.reset_index()[['state name', 'year', lb]]\n",
    "    target_label = target_label[target_label['year'] > 2010].sort_values(by=['state name', 'year']) \n",
    "    target_label[lb] = target_label[lb] * 1000\n",
    "    return target_label"
   ]
  },
  {
   "cell_type": "code",
   "execution_count": null,
   "id": "d3de2875",
   "metadata": {},
   "outputs": [],
   "source": [
    "target = 'overall crime rate'\n",
    "skip_columns = ['total crime', 'overall crime rate']\n",
    "selected_features = []\n",
    "for i, v in zip(columns.index, columns):\n",
    "    if i in crime_names or i in skip_columns:\n",
    "        continue\n",
    "    selected_features.append(i)\n",
    "selected_data = merge_data[selected_features]"
   ]
  },
  {
   "cell_type": "code",
   "execution_count": null,
   "id": "4c62e58c",
   "metadata": {},
   "outputs": [],
   "source": [
    "selected_data = selected_data.reset_index()\n",
    "target_label = extract_label(merge_data)\n",
    "train_data, test_data = get_train_test_data(selected_data)\n",
    "train_label, test_label = get_train_test_label(target_label)"
   ]
  },
  {
   "cell_type": "markdown",
   "id": "91a2a97b",
   "metadata": {},
   "source": [
    "### 2.2. Build a model to predict crime rate of USA"
   ]
  },
  {
   "cell_type": "code",
   "execution_count": null,
   "id": "b7c023a1",
   "metadata": {},
   "outputs": [],
   "source": [
    "import shap\n",
    "shap.initjs()\n",
    "from xgboost import XGBRegressor"
   ]
  },
  {
   "cell_type": "code",
   "execution_count": null,
   "id": "b23c690d",
   "metadata": {},
   "outputs": [],
   "source": [
    "from sklearn.metrics import mean_absolute_error as mae"
   ]
  },
  {
   "cell_type": "code",
   "execution_count": null,
   "id": "2604b44d",
   "metadata": {},
   "outputs": [],
   "source": [
    "def init_model(train_data, train_label):\n",
    "    model = XGBRegressor().fit(train_data, train_label)\n",
    "    return model"
   ]
  },
  {
   "cell_type": "code",
   "execution_count": null,
   "id": "e884932f",
   "metadata": {},
   "outputs": [],
   "source": [
    "model1 = init_model(train_data, train_label)\n",
    "pred = model1.predict(test_data)\n",
    "acc = mae(test_label, pred)\n",
    "acc"
   ]
  },
  {
   "cell_type": "markdown",
   "id": "0c67add2",
   "metadata": {},
   "source": [
    "### 2.3 Model Interpretation"
   ]
  },
  {
   "cell_type": "markdown",
   "id": "5ed73bea",
   "metadata": {},
   "source": [
    "***Initialize explainer***"
   ]
  },
  {
   "cell_type": "code",
   "execution_count": null,
   "id": "d29f6b78",
   "metadata": {},
   "outputs": [],
   "source": [
    "explainer1 = shap.Explainer(model1)\n",
    "sh_values = explainer1(test_data)"
   ]
  },
  {
   "cell_type": "markdown",
   "id": "4d75bfb9",
   "metadata": {},
   "source": [
    "***Plotting global summarization***"
   ]
  },
  {
   "cell_type": "code",
   "execution_count": null,
   "id": "fd3afa1a",
   "metadata": {},
   "outputs": [],
   "source": [
    "shap.plots.bar(sh_values, max_display=10)"
   ]
  },
  {
   "cell_type": "code",
   "execution_count": null,
   "id": "6342adb7",
   "metadata": {},
   "outputs": [],
   "source": [
    "shap.plots.beeswarm(sh_values, max_display=10)"
   ]
  },
  {
   "cell_type": "code",
   "execution_count": null,
   "id": "b8a909f0",
   "metadata": {},
   "outputs": [],
   "source": [
    "# you can printout a hierachical tree of feature interaction\n",
    "# shap.plots.bar(sh_values, max_display=30, clustering=shap.utils.hclust(test_data, test_label))"
   ]
  },
  {
   "cell_type": "markdown",
   "id": "0a78154f",
   "metadata": {},
   "source": [
    "***Explanation:***\n",
    "1. % of white people. Higher, less crime rate.\n",
    "2. % families & people whose income in the past 12 months < poverty level. The higher, the more crime rate. \n",
    "3. % of employed in civilian labor force. The higher, the less crime rate.\n",
    "4. natural resources, construction, & maintenance occupations. Higher, more crime rate.\n",
    "5. % Unemployed in civilian labor force. Lower, less crime rate.\n",
    "Similar for other factors. You should also check additional resources for more detailed information about each factor."
   ]
  },
  {
   "cell_type": "markdown",
   "id": "5452007d",
   "metadata": {},
   "source": [
    "## 3. Selecting 5 states w/ different profiles and analyzing them \n",
    "\n",
    "You don't need to build separate models for each state as we only has 9 records for each one of them. Instead, using 1 big model that fits all states will be better. States with similar properties will have the same pattern. Therefore, if you really want to make separate models for them, each model should be trained with a cluster of data instead of individual state data.\n",
    "\n",
    "You only need to select 5 states for task 4.\n",
    "\n",
    "To select 5 states, you can either clasify them into clusters or using feature similarity methods.\n",
    "\n",
    "Let's use K-mean for simplicity"
   ]
  },
  {
   "cell_type": "code",
   "execution_count": null,
   "id": "a2861d5c",
   "metadata": {},
   "outputs": [],
   "source": [
    "import numpy as np\n",
    "from sklearn.cluster import KMeans\n",
    "from sklearn.decomposition import PCA\n",
    "from sklearn.preprocessing import MinMaxScaler"
   ]
  },
  {
   "cell_type": "code",
   "execution_count": null,
   "id": "e463f560",
   "metadata": {},
   "outputs": [],
   "source": [
    "aggregated_data = merge_data.groupby(by='state_abbr').mean()"
   ]
  },
  {
   "cell_type": "code",
   "execution_count": null,
   "id": "d881d6ae",
   "metadata": {},
   "outputs": [],
   "source": [
    "scaled_data = MinMaxScaler().fit_transform(aggregated_data)\n",
    "\n",
    "pca = PCA(n_components=2)\n",
    "scaled_data = pca.fit_transform(scaled_data)\n",
    "scaled_data = pd.DataFrame(scaled_data, index=aggregated_data.index, columns=['x1', 'x2'])"
   ]
  },
  {
   "cell_type": "code",
   "execution_count": null,
   "id": "7189f9fe",
   "metadata": {},
   "outputs": [],
   "source": [
    "cluster_engine = KMeans(n_clusters=5)\n",
    "cluster_engine.fit(scaled_data)\n",
    "clusters = cluster_engine.predict(scaled_data)"
   ]
  },
  {
   "cell_type": "code",
   "execution_count": null,
   "id": "f7925961",
   "metadata": {},
   "outputs": [],
   "source": [
    "df_clusters = pd.DataFrame(np.concatenate([scaled_data, clusters[:, np.newaxis]], axis=1), index=aggregated_data.index, columns=['x1','x2','cluster'])\n",
    "df_clusters['cluster'] = df_clusters['cluster'].astype(np.int32) + 1\n",
    "df_clusters = df_clusters.sort_values(by='cluster', axis=0)\n",
    "df_clusters"
   ]
  },
  {
   "cell_type": "code",
   "execution_count": null,
   "id": "f4b9dd25",
   "metadata": {},
   "outputs": [],
   "source": [
    "fig, ax = plt.subplots(figsize=(10,6))\n",
    "sns.scatterplot(x='x1', y='x2', palette='Set1', hue='cluster', data=df_clusters, ax=ax)\n",
    "plt.show()"
   ]
  },
  {
   "cell_type": "markdown",
   "id": "cb6253a0",
   "metadata": {},
   "source": [
    "***State selection:***\n",
    "Based on the clustering result, we can select 5 states as follows:\n",
    "1. Nevada\n",
    "2. Florida\n",
    "3. Alaska\n",
    "4. Ohio\n",
    "5. Louisiana\n",
    "\n",
    "K-mean result may be different at each execution time due to its initialization state."
   ]
  },
  {
   "cell_type": "code",
   "execution_count": null,
   "id": "9b7984ad",
   "metadata": {},
   "outputs": [],
   "source": [
    "states = target_label[(target_label['year'] == 2019)]['state name'].tolist()\n",
    "state_index = {}\n",
    "for i, s in enumerate(states):\n",
    "    state_index[s] = i\n",
    "state_index"
   ]
  },
  {
   "cell_type": "code",
   "execution_count": null,
   "id": "ad4d4df0",
   "metadata": {},
   "outputs": [],
   "source": [
    "shap.plots.waterfall(sh_values[27])"
   ]
  },
  {
   "cell_type": "code",
   "execution_count": null,
   "id": "b3cb027c",
   "metadata": {},
   "outputs": [],
   "source": [
    "shap.plots.waterfall(sh_values[8])"
   ]
  },
  {
   "cell_type": "code",
   "execution_count": null,
   "id": "3c6e209f",
   "metadata": {},
   "outputs": [],
   "source": [
    "shap.plots.waterfall(sh_values[1])"
   ]
  },
  {
   "cell_type": "code",
   "execution_count": null,
   "id": "fba2b1dc",
   "metadata": {},
   "outputs": [],
   "source": [
    "shap.plots.waterfall(sh_values[34])"
   ]
  },
  {
   "cell_type": "code",
   "execution_count": null,
   "id": "66036c4e",
   "metadata": {},
   "outputs": [],
   "source": [
    "shap.plots.waterfall(sh_values[17])"
   ]
  },
  {
   "cell_type": "markdown",
   "id": "cb7dbfcf",
   "metadata": {},
   "source": [
    "## 4. Crime Analysize for 2 Specific Types of Crimes Homicide and Property Crime\n",
    "\n",
    "As mentioned above, correlation is not causation. Therefore, as of now, we can't say which causes high crime rates or low crime rates. Therefore, let's select two types of crimes based on its natural motive for crime: homicide and property_crime."
   ]
  },
  {
   "cell_type": "markdown",
   "id": "e55a8781",
   "metadata": {},
   "source": [
    "### 4.1 Homicide"
   ]
  },
  {
   "cell_type": "code",
   "execution_count": null,
   "id": "bca72131",
   "metadata": {},
   "outputs": [],
   "source": [
    "h_crime_names = set([\"total crime\",\"overall crime rate\",\"homicide\",\"violent_crime\",\"robbery\",\"aggravated_assault\",\"property_crime\",\"burglary\",\"larceny\",\"motor_vehicle_theft\"])\n",
    "columns = data_corr[(data_corr['homicide'] >= 0.1) | (data_corr['homicide'] <= -0.1)]['homicide']\n",
    "\n",
    "h_selected_features = []\n",
    "for i, v in zip(columns.index, columns):\n",
    "    if i in h_crime_names:\n",
    "        continue\n",
    "    h_selected_features.append(i)"
   ]
  },
  {
   "cell_type": "code",
   "execution_count": null,
   "id": "66c56518",
   "metadata": {},
   "outputs": [],
   "source": [
    "merge_data_2 = merge_data.copy()\n",
    "merge_data_2['homicide_rate'] = merge_data_2['homicide'] / merge_data_2['population']\n",
    "h_selected_data = merge_data[h_selected_features]\n",
    "h_selected_data = h_selected_data.reset_index()\n",
    "h_train_data, h_test_data = get_train_test_data(h_selected_data)\n",
    "h_target_label = extract_label(merge_data_2, 'homicide_rate')\n",
    "h_train_label, h_test_label = get_train_test_label(h_target_label, lb='homicide_rate')"
   ]
  },
  {
   "cell_type": "code",
   "execution_count": null,
   "id": "4b9a8b5a",
   "metadata": {},
   "outputs": [],
   "source": [
    "h_model = init_model(h_train_data, h_train_label)"
   ]
  },
  {
   "cell_type": "code",
   "execution_count": null,
   "id": "e326b66e",
   "metadata": {},
   "outputs": [],
   "source": [
    "h_pred = h_model.predict(h_test_data)\n",
    "acc = mae(h_test_label, h_pred)\n",
    "acc"
   ]
  },
  {
   "cell_type": "code",
   "execution_count": null,
   "id": "943150ce",
   "metadata": {},
   "outputs": [],
   "source": [
    "h_explainer = shap.Explainer(h_model)\n",
    "sh_h_values = h_explainer(h_test_data)"
   ]
  },
  {
   "cell_type": "code",
   "execution_count": null,
   "id": "a89c3673",
   "metadata": {},
   "outputs": [],
   "source": [
    "shap.plots.bar(sh_h_values, max_display=20)"
   ]
  },
  {
   "cell_type": "code",
   "execution_count": null,
   "id": "62e0b4b0",
   "metadata": {},
   "outputs": [],
   "source": [
    "shap.plots.beeswarm(sh_h_values, max_display=20)"
   ]
  },
  {
   "cell_type": "markdown",
   "id": "b315e34a",
   "metadata": {},
   "source": [
    "***Explanation:***\n",
    "1. % of black or african american. The higher, the more homicide crime rate. It's a sensitive factor as we don't know Whether black people are victims or murderers. Please refer to this figure: https://www.statista.com/statistics/251877/murder-victims-in-the-us-by-race-ethnicity-and-gender/.\n",
    "    As pointed here, non-white people are died from homicide cases more than white.\n",
    "2. Labor force. The higher, the less. \n",
    "3. % of white. The higher, the less. Corresponding to 1st factor."
   ]
  },
  {
   "cell_type": "markdown",
   "id": "61d73ebb",
   "metadata": {},
   "source": [
    "### 4.2 Property Crime"
   ]
  },
  {
   "cell_type": "code",
   "execution_count": null,
   "id": "ca2f9dd4",
   "metadata": {},
   "outputs": [],
   "source": [
    "p_crime_names = set([\"total crime\",\"overall crime rate\",\"violent_crime\",\"homicide\",\"robbery\",\"aggravated_assault\",\"burglary\",\"larceny\",\"motor_vehicle_theft\"])\n",
    "columns = data_corr[(data_corr['property_crime'] >= 0.1) | (data_corr['property_crime'] <= -0.1)]['property_crime']\n",
    "\n",
    "p_selected_features = []\n",
    "for i, v in zip(columns.index, columns):\n",
    "    if i in p_crime_names:\n",
    "        continue\n",
    "    p_selected_features.append(i)"
   ]
  },
  {
   "cell_type": "code",
   "execution_count": null,
   "id": "727caacb",
   "metadata": {},
   "outputs": [],
   "source": [
    "merge_data_3 = merge_data.copy()\n",
    "merge_data_3['property_crime_rate'] = merge_data_2['property_crime'] / merge_data_2['population']\n",
    "p_selected_data = merge_data[p_selected_features]\n",
    "p_selected_data = p_selected_data.reset_index()\n",
    "p_train_data, p_test_data = get_train_test_data(p_selected_data)\n",
    "p_target_label = extract_label(merge_data_3, 'property_crime_rate')\n",
    "p_train_label, p_test_label = get_train_test_label(p_target_label, lb='property_crime_rate')"
   ]
  },
  {
   "cell_type": "code",
   "execution_count": null,
   "id": "0ca5e982",
   "metadata": {},
   "outputs": [],
   "source": [
    "p_model = init_model(p_train_data, p_train_label)\n",
    "p_pred = p_model.predict(p_test_data)\n",
    "acc = mae(p_test_label, p_pred)\n",
    "acc"
   ]
  },
  {
   "cell_type": "code",
   "execution_count": null,
   "id": "3ec616d9",
   "metadata": {},
   "outputs": [],
   "source": [
    "p_explainer = shap.Explainer(p_model)\n",
    "sh_p_values = p_explainer(p_test_data)"
   ]
  },
  {
   "cell_type": "code",
   "execution_count": null,
   "id": "04c86a2f",
   "metadata": {},
   "outputs": [],
   "source": [
    "shap.plots.bar(sh_p_values, max_display=20)"
   ]
  },
  {
   "cell_type": "code",
   "execution_count": null,
   "id": "4a0a0e2d",
   "metadata": {},
   "outputs": [],
   "source": [
    "shap.plots.beeswarm(sh_p_values, max_display=20)"
   ]
  },
  {
   "cell_type": "markdown",
   "id": "aa6ccadf",
   "metadata": {},
   "source": [
    "***Explanation:***\n",
    "1. Family w/ related children under 5. The higher, the more property crime rate. Surprisingly. Poverty level ~ crime rate\n",
    "2. Percent of unemployed in labor force. It's a natural factor. The higher, the more property crime rate.\n",
    "3. Similar to 2nd factor.\n",
    "4. inc & benifit from 50 -> 74.9K. Higher, less crime rate. When people have enough money for food and living, they tend not to commit property crime.\n",
    "5. % White. Guess: white people are usually rich. The higher, the less property crime rate. Property crimes usually commited by non-white people."
   ]
  }
 ],
 "metadata": {
  "jupytext": {
   "text_representation": {
    "extension": ".md",
    "format_name": "myst",
    "format_version": 0.13,
    "jupytext_version": "1.13.8"
   }
  },
  "kernelspec": {
   "display_name": "Python 3.8.5 ('base')",
   "language": "python",
   "name": "python3"
  },
  "language_info": {
   "codemirror_mode": {
    "name": "ipython",
    "version": 3
   },
   "file_extension": ".py",
   "mimetype": "text/x-python",
   "name": "python",
   "nbconvert_exporter": "python",
   "pygments_lexer": "ipython3",
   "version": "3.8.5"
  },
  "source_map": [
   12,
   16,
   20,
   22,
   29,
   33,
   39,
   45,
   49,
   52,
   56,
   75,
   80,
   84,
   86,
   90,
   103,
   161,
   165,
   171,
   173,
   177,
   184,
   190,
   198,
   203,
   208,
   213,
   217,
   221,
   225,
   227,
   231,
   237,
   248,
   255,
   263,
   274,
   279,
   283,
   289,
   293,
   299,
   304,
   308,
   312,
   315,
   319,
   323,
   327,
   330,
   340,
   352,
   359,
   363,
   371,
   377,
   384,
   388,
   400,
   408,
   412,
   416,
   420,
   424,
   426,
   432,
   436,
   447,
   457,
   461,
   467,
   472,
   476,
   478,
   486,
   490,
   501,
   511,
   518,
   523,
   527,
   529
  ]
 },
 "nbformat": 4,
 "nbformat_minor": 5
}