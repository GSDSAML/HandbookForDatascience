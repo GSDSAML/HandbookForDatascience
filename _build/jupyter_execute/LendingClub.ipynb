{
 "cells": [
  {
   "cell_type": "markdown",
   "id": "98c19fe6",
   "metadata": {},
   "source": [
    "# Pratical Hands-on skills\n",
    "\n",
    "<figure><p>\n",
    "<img src=\"https://raw.githubusercontent.com/dataprofessor/infographic/master/01-Building-the-Machine-Learning-Model.JPG\" alt=\"mlbuilding\" width=\"80%\" height=\"80%\"></p><figcaption>Image Source From https://github.com/dataprofessor/infographic</figcaption></figure>\n",
    "\n",
    "## References\n",
    "\n",
    "- https://www.lendingclub.com/investing/investor-education/interest-rates-and-fees\n",
    "- https://www.kaggle.com/code/faressayah/lending-club-loan-defaulters-prediction\n",
    "- https://www.kaggle.com/datasets/wordsforthewise/lending-club\n",
    "- [Peer-to-peer sturcture](https://brunch.co.kr/@beyondplatform/4)\n",
    "\n",
    "---"
   ]
  },
  {
   "cell_type": "markdown",
   "id": "92af08c0",
   "metadata": {},
   "source": [
    "# Lending Club\n",
    "\n",
    "LendingClub is a peer-to-peer lending company headquartered in San Francisco California. It was the first peer-to-peer lender to register its offerings as securities with the Securities and Exchange Commission (SEC) and to offer loan trading on a secondary market. At its height LendingClub was the world's largest peer-to-peer lending platform. {cite:p}`wiki:LendingClub`\n",
    "\n",
    "```{figure} ./figs/lendingclub.png\n",
    "---\n",
    "height: 250px\n",
    "name: directive-fig\n",
    "---\n",
    "lending club website\n",
    "```\n",
    "\n",
    "## About Personal loan\n",
    "\n",
    "A personal loan is a loan which can be taken to meet unspecified financial needs. Today personal loan segment has diverted into many specialised loans. It can be taken for various purpose such as a wedding, traveling, paying education fee, medical emergencies or any undefined reason etc. The interest paid on a personal loan is in most cases higher than that payable on secured loans. {cite:p}`wiki:Unsecured_debt`\n",
    "\n",
    "## Business Understanding\n",
    "\n",
    "Modified some of contents from {cite:p}`kaggle:aayush7kumar`.\n",
    "\n",
    "The LendingClub company lends various types of loans to their customers. The company will make a decision for loan approval based on the applicant’s profile. Two types of risks are associated with the bank’s decision:\n",
    "\n",
    "- If the applicant is likely to repay the loan, then not approving the loan results in a loss of business to the company\n",
    "- If the applicant is not likely to repay the loan, i.e. he/she is likely to default, then approving the loan may lead to a financial loss for the company.\n",
    "\n",
    "The data given contains the information about past loan applicants and whether they 'defaulted' or not. The aim is to identify patterns which indicate if a person is **likely** to default, which may be used for takin actions such as denying the loan, reducing the amount of loan, lending (to risky applicants) at a higher interest rate, etc.\n",
    "\n",
    "When a person applies for a loan, there are two types of decisions that could be taken by the company:\n",
    "\n",
    "1. Loan accepted: If the company approves the loan, there are 3 possible scenarios described below:\n",
    "    - Fully paid: Applicant has fully paid the loan (the principal and the interest rate)\n",
    "    - Current: Applicant is in the process of paying the instalments, i.e. the tenure of the loan is not yet completed. These candidates are not labelled as 'defaulted'.\n",
    "    - Charged-off: Applicant has not paid the instalments in due time for a long period of time, i.e. he/she has defaulted on the loan\n",
    "2. Loan rejected: The company had rejected the loan (because the candidate does not meet their requirements etc.). Since the loan was rejected, there is no transactional history of those applicants with the company and so this data is not available with the company (and thus in this dataset)\n",
    "\n",
    "## Business Metric\n",
    "\n",
    "TBD\n",
    "\n",
    "- It might be some explanation on why some of customer fails to pay the loan for reject purpose"
   ]
  },
  {
   "cell_type": "code",
   "execution_count": 1,
   "id": "fe3589bf",
   "metadata": {},
   "outputs": [
    {
     "ename": "ModuleNotFoundError",
     "evalue": "No module named 'hvplot'",
     "output_type": "error",
     "traceback": [
      "\u001b[0;31m---------------------------------------------------------------------------\u001b[0m",
      "\u001b[0;31mModuleNotFoundError\u001b[0m                       Traceback (most recent call last)",
      "\u001b[0;32m<ipython-input-1-669037a33da1>\u001b[0m in \u001b[0;36m<module>\u001b[0;34m\u001b[0m\n\u001b[1;32m      3\u001b[0m \u001b[0;32mimport\u001b[0m \u001b[0mseaborn\u001b[0m \u001b[0;32mas\u001b[0m \u001b[0msns\u001b[0m\u001b[0;34m\u001b[0m\u001b[0;34m\u001b[0m\u001b[0m\n\u001b[1;32m      4\u001b[0m \u001b[0;32mimport\u001b[0m \u001b[0mmatplotlib\u001b[0m\u001b[0;34m.\u001b[0m\u001b[0mpyplot\u001b[0m \u001b[0;32mas\u001b[0m \u001b[0mplt\u001b[0m\u001b[0;34m\u001b[0m\u001b[0;34m\u001b[0m\u001b[0m\n\u001b[0;32m----> 5\u001b[0;31m \u001b[0;32mimport\u001b[0m \u001b[0mhvplot\u001b[0m\u001b[0;34m.\u001b[0m\u001b[0mpandas\u001b[0m\u001b[0;34m\u001b[0m\u001b[0;34m\u001b[0m\u001b[0m\n\u001b[0m\u001b[1;32m      6\u001b[0m \u001b[0;32mfrom\u001b[0m \u001b[0mpathlib\u001b[0m \u001b[0;32mimport\u001b[0m \u001b[0mPath\u001b[0m\u001b[0;34m\u001b[0m\u001b[0;34m\u001b[0m\u001b[0m\n\u001b[1;32m      7\u001b[0m \u001b[0;34m\u001b[0m\u001b[0m\n",
      "\u001b[0;31mModuleNotFoundError\u001b[0m: No module named 'hvplot'"
     ]
    }
   ],
   "source": [
    "import numpy as np\n",
    "import pandas as pd\n",
    "import seaborn as sns\n",
    "import matplotlib.pyplot as plt\n",
    "import hvplot.pandas\n",
    "from pathlib import Path\n",
    "\n",
    "main_path = Path().absolute().parent\n",
    "data_path = main_path.parent / 'data' / 'p2p' / 'lending_club' / 'processed'"
   ]
  },
  {
   "cell_type": "markdown",
   "id": "1a6251f8",
   "metadata": {},
   "source": [
    "## Exploratory Data Analysis"
   ]
  },
  {
   "cell_type": "markdown",
   "id": "4d3ad9d9",
   "metadata": {},
   "source": [
    "### Data Description\n",
    "\n",
    "|LoanStatNew|Description|\n",
    "|---|---|\n",
    "|loan_amnt|The listed amount of the loan applied for by the borrower. If at some point in time, the credit department reduces the loan amount, then it will be reflected in this value.|\n",
    "|term|The number of payments on the loan. Values are in months and can be either 36 or 60.|\n",
    "|loan_status|Current status of the loan.|\n",
    "|int_rate|Interest Rate on the loan.|\n",
    "|installment|The monthly payment owed by the borrower if the loan originates.|\n",
    "|grade|LC assigned loan grade.|\n",
    "|sub_grade|LC assigned loan subgrade.|\n",
    "|emp_title|The job title supplied by the Borrower when applying for the loan.|\n",
    "|emp_length|Employment length in years. Possible values are between 0 and 10 where 0 means less than one year and 10 means ten or more years. |\n",
    "|home_ownership|The home ownership status provided by the borrower during registration or obtained from the credit report. Our values are: RENT, OWN, MORTGAGE, OTHER\n",
    "|annual_inc|The self-reported annual income provided by the borrower during registration.|\n",
    "|verification_status|Indicates if income was verified by LC, not verified, or if the income source was verified.|\n",
    "|issue_d|The month which the loan was funded.|\n",
    "|purpose|A category provided by the borrower for the loan request. |\n",
    "|title|The loan title provided by the borrower.|\n",
    "|dti|A ratio calculated using the borrower's total monthly debt payments on the total debt obligations, excluding mortgage and the requested LC loan, divided by the borrowe's self-reported monthly income.|\n",
    "|earliest_cr_line|The month the borrower's earliest reported credit line was opened.|\n",
    "|open_acc|The number of open credit lines in the borrower's credit file.|\n",
    "|pub_rec|Number of derogatory public records.|\n",
    "|pub_rec_bankruptcies|Number of public record bankruptcies.|\n",
    "|revol_bal|Total credit revolving balance.|\n",
    "|revol_util|\"Revolving line utilization rate, or the amount of credit the borrower is using relative to all available revolving credit.|\n",
    "|total_acc|The total number of credit lines currently in the borrower's credit file.|\n",
    "|initial_list_status|The initial listing status of the loan. Possible values are – W, F|\n",
    "|application_type|Indicates whether the loan is an individual application or a joint application with two co-borrowers.|\n",
    "|mort_acc|Number of mortgage accounts.|\n",
    "|addr_state|The state provided by the borrower in the loan application.|"
   ]
  },
  {
   "cell_type": "code",
   "execution_count": null,
   "id": "ea1e5cd8",
   "metadata": {},
   "outputs": [],
   "source": [
    "# import data\n",
    "df = pd.read_csv( data_path / 'accepted.csv')\n",
    "df.info()"
   ]
  },
  {
   "cell_type": "markdown",
   "id": "70f9f811",
   "metadata": {},
   "source": [
    "### loan status\n",
    "\n",
    "Current status of the loan."
   ]
  },
  {
   "cell_type": "code",
   "execution_count": null,
   "id": "b46cf508",
   "metadata": {
    "tags": [
     "hide-input"
    ]
   },
   "outputs": [],
   "source": [
    "df['loan_status'].value_counts().hvplot.bar(\n",
    "    title='Loan Status Counts', xlabel='Loan Status', ylabel='Count', \n",
    "    width=500, height=350, yformatter='%d'\n",
    ")"
   ]
  },
  {
   "cell_type": "markdown",
   "id": "814f34c4",
   "metadata": {},
   "source": [
    "### loan_amnt & installment\n",
    "\n",
    "- loan_amnt: The listed amount of the loan applied for by the borrower. If at some point in time, the credit department reduces the loan amount, then it will be reflected in this value.\n",
    "- installment: The monthly payment owed by the borrower if the loan originates."
   ]
  },
  {
   "cell_type": "code",
   "execution_count": null,
   "id": "d36e74f7",
   "metadata": {
    "tags": [
     "hide-input"
    ]
   },
   "outputs": [],
   "source": [
    "loan_amnt = df.hvplot.hist(\n",
    "    y='loan_amnt', by='loan_status', subplots=False, \n",
    "    width=400, height=400, bins=50, alpha=0.4, title='Loan Amount', \n",
    "    xlabel='Loan Amount', ylabel='Counts', legend='top',\n",
    "    yformatter='%d'\n",
    ")\n",
    "loan_amnt"
   ]
  },
  {
   "cell_type": "code",
   "execution_count": null,
   "id": "686fbb96",
   "metadata": {
    "tags": [
     "hide-input"
    ]
   },
   "outputs": [],
   "source": [
    "installment = df.hvplot.hist(\n",
    "    y='installment', by='loan_status', subplots=False, \n",
    "    width=400, height=400, bins=50, alpha=0.4, title='Installment', \n",
    "    xlabel='Installment', ylabel='Counts', legend='top',\n",
    "    yformatter='%d'\n",
    ")\n",
    "installment"
   ]
  },
  {
   "cell_type": "code",
   "execution_count": null,
   "id": "77a2ef20",
   "metadata": {
    "tags": [
     "hide-input"
    ]
   },
   "outputs": [],
   "source": [
    "installment_box = df.hvplot.box(\n",
    "    y='installment', subplots=True, by='loan_status', width=250, height=400, \n",
    "    title='Installment', xlabel='Loan Status', ylabel='Installment', legend=False\n",
    ")\n",
    "\n",
    "loan_amnt_box = df.hvplot.box(\n",
    "    y='loan_amnt', subplots=True, by='loan_status', width=250, height=400, \n",
    "    title='Loan Amount', xlabel='Loan Status', ylabel='Loan Amount', legend=False\n",
    ")\n",
    "\n",
    "loan_amnt_box + installment_box"
   ]
  },
  {
   "cell_type": "markdown",
   "id": "6a13cfdc",
   "metadata": {},
   "source": [
    "### term & int_rate\n",
    "\n",
    "- term: The number of payments on the loan. Values are in months and can be either 36 or 60.\n",
    "- int_rate: Interest Rate on the loan."
   ]
  },
  {
   "cell_type": "code",
   "execution_count": null,
   "id": "70ad2720",
   "metadata": {
    "tags": [
     "hide-input"
    ]
   },
   "outputs": [],
   "source": [
    "term = df.groupby(['loan_status'])[['term']].value_counts().rename('Count').hvplot.bar()\n",
    "term.opts(\n",
    "    title=\"Term\", xlabel='Term / Loan Status', ylabel='Count',\n",
    "    width=500, height=450, show_legend=True, yformatter='%d'\n",
    ")"
   ]
  },
  {
   "cell_type": "code",
   "execution_count": null,
   "id": "9486ade5",
   "metadata": {
    "tags": [
     "hide-input"
    ]
   },
   "outputs": [],
   "source": [
    "int_rate = df.hvplot.hist(\n",
    "    y='int_rate', by='loan_status', subplots=False, \n",
    "    width=400, height=400, bins=30, alpha=0.4, \n",
    "    title='Interest Rate', \n",
    "    xlabel='Interest Rate', ylabel='Counts', legend='top',\n",
    "    yformatter='%d'\n",
    ")\n",
    "int_rate"
   ]
  },
  {
   "cell_type": "markdown",
   "id": "83314265",
   "metadata": {},
   "source": [
    "usually sort-term has lower interest rate"
   ]
  },
  {
   "cell_type": "code",
   "execution_count": null,
   "id": "e1e7a212",
   "metadata": {
    "tags": [
     "hide-input"
    ]
   },
   "outputs": [],
   "source": [
    "df.loc[:, ['loan_status', 'term', 'int_rate']].hvplot.hist(\n",
    "    y='int_rate', groupby='loan_status', by='term', subplots=False, \n",
    "    width=400, height=400, bins=30, alpha=0.4, \n",
    "    title='Interest Rate by term', xlabel='Interest Rate', ylabel='Counts', legend='top',\n",
    "    yformatter='%d', dynamic=False\n",
    ")"
   ]
  },
  {
   "cell_type": "markdown",
   "id": "54db0856",
   "metadata": {},
   "source": [
    "Interesting relation between interest rate and installment it that can be calculate by the following formula if using \"Equal repayment of principal and interest\""
   ]
  },
  {
   "cell_type": "code",
   "execution_count": null,
   "id": "a5614d48",
   "metadata": {},
   "outputs": [],
   "source": [
    "def cal_amount_erpi(loan_amnt, int_rate, term):\n",
    "    \"\"\"\n",
    "    loan_anmt: loan amount\n",
    "    int_rate: interest rate, percentage\n",
    "    term: in month\n",
    "    \"\"\"\n",
    "    int_rate_monthly = int_rate / 100 / 12\n",
    "    payment_monthly = loan_amnt * int_rate_monthly\n",
    "    total_to_pay = payment_monthly * (1 + int_rate_monthly)**term\n",
    "    return total_to_pay / ((1 + int_rate_monthly)**term - 1)"
   ]
  },
  {
   "cell_type": "code",
   "execution_count": null,
   "id": "19a15c4b",
   "metadata": {},
   "outputs": [],
   "source": [
    "df_temp = df.loc[:, ['installment', 'loan_amnt', 'int_rate', 'term']].copy()\n",
    "df_temp['term'] = df_temp['term'].str.strip('months').str.strip().astype(np.int32)\n",
    "df_temp['installment_cal'] = df_temp.apply(lambda x: cal_amount_erpi(x['loan_amnt'], x['int_rate'], x['term']), axis=1)"
   ]
  },
  {
   "cell_type": "markdown",
   "id": "983ef9b5",
   "metadata": {},
   "source": [
    "not all the payment are following \"Equal repayment of principal and interest\""
   ]
  },
  {
   "cell_type": "code",
   "execution_count": null,
   "id": "dcf7ca7d",
   "metadata": {},
   "outputs": [],
   "source": [
    "df_temp_diff = (df_temp['installment_cal'] - df_temp['installment'])\n",
    "df_diff = df_temp_diff.agg(['mean', 'std'])\n",
    "print(f'Difference of Mean: {df_diff[\"mean\"]:.4f} Standard Deviation {df_diff[\"std\"]:.4f}')\n",
    "df_temp_diff.loc[abs(df_temp_diff) > 1].hvplot.hist(\n",
    "    subplots=False, width=400, height=400, bins=50, alpha=0.4, \n",
    "    title='Differences between calculated installment (Diff > 1)', xlabel='Diff', ylabel='Counts', legend='top',\n",
    "    yformatter='%d',\n",
    ")"
   ]
  },
  {
   "cell_type": "markdown",
   "id": "e93481b8",
   "metadata": {},
   "source": [
    "### grade & sub_grade\n",
    "\n",
    "- grade: LC assigned loan grade.\n",
    "- sub_grade: LC assigned loan subgrade."
   ]
  },
  {
   "cell_type": "code",
   "execution_count": null,
   "id": "705b69c8",
   "metadata": {
    "tags": [
     "hide-input"
    ]
   },
   "outputs": [],
   "source": [
    "grade = df.groupby(['loan_status'])[['grade']].value_counts().sort_index().hvplot.bar(\n",
    "    width=400, height=400, title='Grade Distribution', xlabel='Grade', ylabel='Count', \n",
    "    legend='top', yformatter='%d'\n",
    ")\n",
    "grade"
   ]
  },
  {
   "cell_type": "code",
   "execution_count": null,
   "id": "71bb116c",
   "metadata": {
    "tags": [
     "hide-input"
    ]
   },
   "outputs": [],
   "source": [
    "sub_grade = df.groupby(['loan_status'])[['sub_grade']].value_counts().sort_index().hvplot.barh(\n",
    "    width=400, height=800, title='Sub-Grade Distribution', xlabel='Sub-Grade', ylabel='Count', \n",
    "    legend='top', xformatter='%d'\n",
    ")\n",
    "sub_grade"
   ]
  },
  {
   "cell_type": "markdown",
   "id": "2516f4eb",
   "metadata": {},
   "source": [
    "usually people don't charge off at grade A - B, usually C grade are more often charge off. but cannot say that the people who has lower grade pay less on their loan."
   ]
  },
  {
   "cell_type": "code",
   "execution_count": null,
   "id": "e2a11b44",
   "metadata": {
    "tags": [
     "hide-input"
    ]
   },
   "outputs": [],
   "source": [
    "df.loc[df['grade'].isin(['E', 'F', 'G'])].groupby(['loan_status', 'grade'])[['grade']].value_counts().rename('count')\\\n",
    "    .hvplot.table(title='Grade Count in E-G')"
   ]
  },
  {
   "cell_type": "markdown",
   "id": "6b1104a2",
   "metadata": {},
   "source": [
    "### home_ownership & purpose\n",
    "\n",
    "- home_ownership: The home ownership status provided by the borrower during registration or obtained from the credit report. Our values are: RENT, OWN, MORTGAGE, OTHER\n",
    "- purpose: A category provided by the borrower for the loan request."
   ]
  },
  {
   "cell_type": "code",
   "execution_count": null,
   "id": "ec654a50",
   "metadata": {
    "tags": [
     "hide-input"
    ]
   },
   "outputs": [],
   "source": [
    "df.groupby(['loan_status'])[['home_ownership']].value_counts().rename('count').hvplot.table()"
   ]
  },
  {
   "cell_type": "code",
   "execution_count": null,
   "id": "f74dc238",
   "metadata": {
    "tags": [
     "hide-input"
    ]
   },
   "outputs": [],
   "source": [
    "home_ownership = df.groupby(['loan_status'])[['home_ownership']].value_counts().rename('Count').hvplot.bar()\n",
    "home_ownership.opts(\n",
    "    title='Home Ownership', xlabel='Home Ownership / Loan Status', ylabel='Count',\n",
    "    width=700, height=450, show_legend=True, yformatter='%d'\n",
    ")"
   ]
  },
  {
   "cell_type": "code",
   "execution_count": null,
   "id": "73171f53",
   "metadata": {
    "tags": [
     "hide-input"
    ]
   },
   "outputs": [],
   "source": [
    "purpose = df.groupby(['loan_status'])[['purpose']].value_counts().rename('Count').hvplot.bar()\n",
    "purpose.opts(\n",
    "    title=\"Purpose\", xlabel='Purpose / Loan Status', ylabel='Count',\n",
    "    width=700, height=450, show_legend=True, yformatter='%d', xrotation=90\n",
    ")"
   ]
  },
  {
   "cell_type": "markdown",
   "id": "6fed0adc",
   "metadata": {},
   "source": [
    "### annual_inc & verification_status\n",
    "\n",
    "- annual_inc: The self-reported annual income provided by the borrower during registration.\n",
    "- verification_status: Indicates if income was verified by LC, not verified, or if the income source was verified"
   ]
  },
  {
   "cell_type": "code",
   "execution_count": null,
   "id": "ab3ac073",
   "metadata": {
    "tags": [
     "hide-input"
    ]
   },
   "outputs": [],
   "source": [
    "df.groupby(['loan_status', 'verification_status'])['annual_inc'].describe().round(2).hvplot.table(\n",
    "    title='Annual Income Table Description By Loan Status & Verification', height=200, width=700)"
   ]
  },
  {
   "cell_type": "code",
   "execution_count": null,
   "id": "9349d27d",
   "metadata": {
    "tags": [
     "hide-input"
    ]
   },
   "outputs": [],
   "source": [
    "(df.groupby(['loan_status'])[['verification_status']].value_counts() / df.groupby(['loan_status'])['verification_status'].count())\\\n",
    "    .rename('percentage').hvplot.table(title='Income Verified Rate', height=200)"
   ]
  },
  {
   "cell_type": "code",
   "execution_count": null,
   "id": "601a4d48",
   "metadata": {
    "tags": [
     "hide-input"
    ]
   },
   "outputs": [],
   "source": [
    "def is_outlier(x): \n",
    "    iqr = np.percentile(x, 75) - np.percentile(x, 25)\n",
    "    upper = np.percentile(x, 75) + (iqr * 1.5)\n",
    "    lower = np.percentile(x, 25) - (iqr * 1.5)\n",
    "\n",
    "    return (x > upper) | (x < lower)\n",
    "\n",
    "annual_inc = df.loc[~df.groupby(['loan_status', 'verification_status'])['annual_inc'].apply(is_outlier), \n",
    "    ['loan_status', 'verification_status', 'annual_inc']].hvplot.hist(\n",
    "    y='annual_inc', by='loan_status', groupby='verification_status', subplots=False, \n",
    "    width=700, height=400, bins=40, alpha=0.4, title='Annual Income(1Q~3Q +/- 1.5*IQR) Distsribution', \n",
    "    xlabel='Annual Income', ylabel='Counts', legend='top', yformatter='%d', xformatter='%d', dynamic=False\n",
    ")\n",
    "annual_inc"
   ]
  },
  {
   "cell_type": "markdown",
   "id": "778bf74d",
   "metadata": {},
   "source": [
    "* Q: What is the difference between verified and not verified who has much high/lower income?"
   ]
  },
  {
   "cell_type": "code",
   "execution_count": null,
   "id": "76cab3d3",
   "metadata": {},
   "outputs": [],
   "source": [
    "df.loc[df.groupby(['loan_status', 'verification_status'])['annual_inc'].apply(is_outlier), \n",
    "['loan_status', 'verification_status', 'annual_inc']].groupby(['loan_status', 'verification_status'])['annual_inc'].describe()"
   ]
  },
  {
   "cell_type": "markdown",
   "id": "6a3e4447",
   "metadata": {},
   "source": [
    "### emp_title & emp_length\n",
    "\n",
    "- emp_title: The job title supplied by the Borrower when applying for the loan.\n",
    "- emp_length: Employment length in years. Possible values are between 0 and 10 where 0 means less than one year and 10 means ten or more years."
   ]
  },
  {
   "cell_type": "code",
   "execution_count": null,
   "id": "c6d52ce4",
   "metadata": {
    "tags": [
     "hide-input"
    ]
   },
   "outputs": [],
   "source": [
    "check_null = lambda x: x.isnull().sum()\n",
    "df_emp_null = df.loc[:, ['emp_title', 'emp_length']].apply([check_null, pd.Series.nunique]).rename(index={'<lambda>': 'nnull'}).reset_index().hvplot.table(\n",
    "    title='Job Title & Employment length: NA values', height=100\n",
    ")\n",
    "df_emp_top20 = df['emp_title'].value_counts().reset_index().rename(columns={'index': 'emp_title', 'emp_title': 'count'})[:20].hvplot.table(\n",
    "    title='Job Title Top 20'\n",
    ")"
   ]
  },
  {
   "cell_type": "code",
   "execution_count": null,
   "id": "73ca615d",
   "metadata": {},
   "outputs": [],
   "source": [
    "df_emp_null"
   ]
  },
  {
   "cell_type": "code",
   "execution_count": null,
   "id": "ffbc570a",
   "metadata": {},
   "outputs": [],
   "source": [
    "df_emp_top20"
   ]
  },
  {
   "cell_type": "code",
   "execution_count": null,
   "id": "05a824dd",
   "metadata": {},
   "outputs": [],
   "source": [
    "df['emp_length'].fillna('unknown', inplace=True)\n",
    "df['emp_title'].fillna('unknown', inplace=True)\n",
    "df['emp_title'] = df['emp_title'].str.lower()  # Unify into lower cases"
   ]
  },
  {
   "cell_type": "code",
   "execution_count": null,
   "id": "ea45dca6",
   "metadata": {
    "tags": [
     "hide-input"
    ]
   },
   "outputs": [],
   "source": [
    "df_emp_top20 = df['emp_title'].value_counts().reset_index().rename(columns={'index': 'emp_title', 'emp_title': 'count'})[:20].hvplot.table(\n",
    "    title='Job Title Top 20'\n",
    ")\n",
    "df_emp_top20"
   ]
  },
  {
   "cell_type": "code",
   "execution_count": null,
   "id": "b2c65cb2",
   "metadata": {
    "tags": [
     "hide-input"
    ]
   },
   "outputs": [],
   "source": [
    "df_emp_bottom20 = df['emp_title'].value_counts().reset_index().rename(columns={'index': 'emp_title', 'emp_title': 'count'})[-20:].hvplot.table(\n",
    "    title='Job Title Bottom 20'\n",
    ")\n",
    "df_emp_bottom20"
   ]
  },
  {
   "cell_type": "code",
   "execution_count": null,
   "id": "3a33e041",
   "metadata": {},
   "outputs": [],
   "source": [
    "print(df['emp_title'].nunique())"
   ]
  },
  {
   "cell_type": "markdown",
   "id": "ee4ce16c",
   "metadata": {},
   "source": [
    "titles are not normalized(or structured), too many unique titles in the data."
   ]
  },
  {
   "cell_type": "code",
   "execution_count": null,
   "id": "21f5cb20",
   "metadata": {
    "tags": [
     "hide-input"
    ]
   },
   "outputs": [],
   "source": [
    "from itertools import product\n",
    "\n",
    "loan_status_order = ['Charged Off', 'Fully Paid']\n",
    "emp_length_order = ['unknown', '< 1 year', '1 year', '2 years', '3 years', '4 years', '5 years', '6 years', '7 years', '8 years', '9 years', '10+ years']\n",
    "emp_length = df.groupby(['loan_status'])[['emp_length']].value_counts().reindex(list(product(*[loan_status_order, emp_length_order])))\\\n",
    "    .rename('Count').hvplot.barh(stacked=True, legend='right')\n",
    "emp_length.opts(\n",
    "    title='Employment Length in years', height=400, width=700, xlabel='Counts', ylabel='Employment Length in years', xformatter='%d'\n",
    ")"
   ]
  },
  {
   "cell_type": "markdown",
   "id": "790231bb",
   "metadata": {},
   "source": [
    "### issue_d & earliest_cr_line\n",
    "\n",
    "- issue_d: The month which the loan was funded.\n",
    "- earliest_cr_line: The month the borrower's earliest reported credit line was opened.\n",
    "\n",
    "Red is the people who charge-off and the blue is the people who fully paied. Most people try to do the loan near the 2016 and started to create their credit line at 2000."
   ]
  },
  {
   "cell_type": "code",
   "execution_count": null,
   "id": "3cdf7933",
   "metadata": {},
   "outputs": [],
   "source": [
    "import calendar\n",
    "\n",
    "month_dict = {m: n for n, m in enumerate([calendar.month_abbr[i] for i in range(1, 13)], 1)}\n",
    "\n",
    "df['issue_d'] = pd.to_datetime(df['issue_d'].str.split('-').apply(lambda x: f'{x[1]}-{month_dict.get(x[0])}'))\n",
    "df['earliest_cr_line'] = pd.to_datetime(df['earliest_cr_line'].str.split('-').apply(lambda x: f'{x[1]}-{month_dict.get(x[0])}'))"
   ]
  },
  {
   "cell_type": "code",
   "execution_count": null,
   "id": "b6e9247a",
   "metadata": {
    "tags": [
     "hide-input"
    ]
   },
   "outputs": [],
   "source": [
    "fully_paid = df.loc[df['loan_status']=='Fully Paid', 'issue_d'].hvplot.hist(bins=35) \n",
    "charged_off = df.loc[df['loan_status']=='Charged Off', 'issue_d'].hvplot.hist(bins=35)\n",
    "\n",
    "# fully_paid * charged_off\n",
    "loan_issue_date = (fully_paid * charged_off).opts(\n",
    "    title='Loan Issue Date Distribution', xlabel='Loan Issue Date', ylabel='Count',\n",
    "    width=350, height=350, legend_cols=2, legend_position='top_right'\n",
    ").opts(xrotation=45, yformatter='%d')\n",
    "\n",
    "fully_paid = df.loc[df['loan_status']=='Fully Paid', 'earliest_cr_line'].hvplot.hist(bins=35) \n",
    "charged_off = df.loc[df['loan_status']=='Charged Off', 'earliest_cr_line'].hvplot.hist(bins=35)\n",
    "\n",
    "earliest_cr_line = (fully_paid * charged_off).opts(\n",
    "    title='Earliest reported credit line', xlabel='earliest_cr_line', ylabel='Count',\n",
    "    width=350, height=350, legend_cols=2, legend_position='top_right'\n",
    ").opts(xrotation=45, yformatter='%d')\n",
    "\n",
    "loan_issue_date + earliest_cr_line"
   ]
  },
  {
   "cell_type": "markdown",
   "id": "4094db62",
   "metadata": {},
   "source": [
    "* Q: Are there anyone who applied before the credit line is reported?"
   ]
  },
  {
   "cell_type": "code",
   "execution_count": null,
   "id": "0802b705",
   "metadata": {},
   "outputs": [],
   "source": [
    "issue_report = df['issue_d'] < df['earliest_cr_line']\n",
    "print(f'The percentage that who applied before the credit line is reported: {(issue_report).sum() / len(df)}')"
   ]
  },
  {
   "cell_type": "markdown",
   "id": "c4fdd18a",
   "metadata": {},
   "source": [
    "* Q: Are there any difference between months?"
   ]
  },
  {
   "cell_type": "code",
   "execution_count": null,
   "id": "0de120f0",
   "metadata": {},
   "outputs": [],
   "source": [
    "df['issue_d_month'] = df['issue_d'].dt.month\n",
    "\n",
    "issue_d_month = df.groupby(['loan_status'])[['issue_d_month']].value_counts().rename('Count').hvplot.bar()\n",
    "issue_d_month.opts(\n",
    "    title=\"Issue Date Distribution in every month by Loan Status\", xlabel='Month', ylabel='Count',\n",
    "    width=700, height=450, show_legend=True, yformatter='%d'\n",
    ")"
   ]
  },
  {
   "cell_type": "markdown",
   "id": "153f87bd",
   "metadata": {},
   "source": [
    "### title\n",
    "\n",
    "title is duplicated with the `purpose` column, will drop it later"
   ]
  },
  {
   "cell_type": "code",
   "execution_count": null,
   "id": "4f5a8731",
   "metadata": {},
   "outputs": [],
   "source": [
    "print(df['title'].isnull().sum())"
   ]
  },
  {
   "cell_type": "code",
   "execution_count": null,
   "id": "79639e8d",
   "metadata": {},
   "outputs": [],
   "source": [
    "df['title'] = df['title'].str.lower()\n",
    "df['title'].value_counts()[:10]"
   ]
  },
  {
   "cell_type": "markdown",
   "id": "1e62536f",
   "metadata": {},
   "source": [
    "### dti, open_acc, total_acc\n",
    "\n",
    "```{admonition} What Is Debt-to-Income Ratio?\n",
    "\n",
    "Your debt-to-income ratio compares your debt payments to your monthly gross income, or how much you earn each month before taxes and other deductions. Your DTI ratio gives lenders a clearer picture of your current debt and income, and is used to determine how much money you can afford to responsibly borrow.\n",
    "\n",
    "Monthly debt may include:\n",
    "\n",
    "- Minimum credit card payments\n",
    "- Loan payments (such as car payments, student loan payments, personal loans, and other loan payments)\n",
    "- Monthly alimony or child support payments\n",
    "- Rent payment or mortgage payments\n",
    "- Other debts included in your credit report\n",
    "\n",
    "```\n",
    "\n",
    "- dti: A ratio calculated using the borrower's total monthly debt payments on the total debt obligations, excluding mortgage and the requested LC loan, divided by the borrower's self-reported monthly income.\n",
    "- open_acc: The number of open credit lines in the borrower's credit file.\n",
    "- total_acc: The total number of credit lines currently in the borrower's credit file.\n",
    "\n",
    "[NerdWallet website](https://www.nerdwallet.com/reviews/loans/personal-loans/lendingclub-personal-loans) says that the maximum allowed DTI ratio is 40% for single applicants and 35% for joint applicants. In the [Lending Club website](https://www.lendingclub.com/loans/resource-center/calculating-debt-to-income), seems like over 40% DTI is not a good signal, they suggest some way to improve the DTI ratio."
   ]
  },
  {
   "cell_type": "code",
   "execution_count": null,
   "id": "a3e22a03",
   "metadata": {
    "tags": [
     "hide-input"
    ]
   },
   "outputs": [],
   "source": [
    "df['dti'].describe().reset_index().hvplot.table(title='DTI Table Description', height=250)\n",
    "# Can DTI be 999?"
   ]
  },
  {
   "cell_type": "markdown",
   "id": "c3b5b198",
   "metadata": {},
   "source": [
    "It seems like the DTI over 60 can be treated as outlier data, may need to drop them."
   ]
  },
  {
   "cell_type": "code",
   "execution_count": null,
   "id": "e00c9f02",
   "metadata": {},
   "outputs": [],
   "source": [
    "df.loc[df['dti'] > 40].groupby(['loan_status'])['dti'].describe().hvplot.table(title='DTI > 40% Table Description', height=100)"
   ]
  },
  {
   "cell_type": "code",
   "execution_count": null,
   "id": "31772afc",
   "metadata": {
    "tags": [
     "hide-input"
    ]
   },
   "outputs": [],
   "source": [
    "dti_sub = df.loc[df['dti'] <= 40].hvplot.hist(\n",
    "    y='dti', by='loan_status', bins=50, width=400, height=350, subplots=False, \n",
    "    title=\"dti(<=50) Distribution\", xlabel='dti', ylabel='Count', shared_axes=False,\n",
    "    alpha=0.4, legend='top', yformatter='%d'\n",
    ")\n",
    "\n",
    "dti_sub2 = df.loc[df['dti'] > 40].hvplot.hist(\n",
    "    y='dti', by='loan_status', bins=100, width=400, height=350, subplots=False, \n",
    "    title=\"dti(>50) Distribution\", xlabel='dti', ylabel='Count', shared_axes=False,\n",
    "    alpha=0.4, legend='top', yformatter='%d'\n",
    ")\n",
    "\n",
    "dti_sub + dti_sub2"
   ]
  },
  {
   "cell_type": "code",
   "execution_count": null,
   "id": "2c9ec548",
   "metadata": {
    "tags": [
     "hide-input"
    ]
   },
   "outputs": [],
   "source": [
    "open_acc = df.hvplot.hist(\n",
    "    y='open_acc', by='loan_status', bins=50, width=450, height=350, \n",
    "    title='The number of open credit lines', xlabel='The number of open credit lines', ylabel='Count', \n",
    "    alpha=0.4, legend='top', yformatter='%d'\n",
    ")\n",
    "\n",
    "total_acc = df.hvplot.hist(\n",
    "    y='total_acc', by='loan_status', bins=50, width=450, height=350, \n",
    "    title='The total number of credit lines', xlabel='The total number of credit lines', ylabel='Count', \n",
    "    alpha=0.4, legend='top', yformatter='%d'\n",
    ")\n",
    "\n",
    "open_acc + total_acc"
   ]
  },
  {
   "cell_type": "markdown",
   "id": "39462eaf",
   "metadata": {},
   "source": [
    "### revol_bal & revol_util\n",
    "\n",
    "```{admonition} What is revolving balance?\n",
    "\n",
    "In credit card terms, a revolving balance is the portion of credit card spending that goes unpaid at the end of a billing cycle. \n",
    "```\n",
    "\n",
    "https://www.capitalone.com/learn-grow/money-management/revolving-credit-balance/\n",
    "\n",
    "- revol_bal: Total credit revolving balance.\n",
    "- revol_util: Revolving line utilization rate, or the amount of credit the borrower is using relative to all available revolving credit."
   ]
  },
  {
   "cell_type": "code",
   "execution_count": null,
   "id": "6ebeca79",
   "metadata": {
    "tags": [
     "hide-input"
    ]
   },
   "outputs": [],
   "source": [
    "df.groupby(['loan_status'])['revol_bal'].describe().round(2).reset_index().hvplot.table(title='Revolving Balance Table Description', height=100)"
   ]
  },
  {
   "cell_type": "code",
   "execution_count": null,
   "id": "cbf9440d",
   "metadata": {
    "tags": [
     "hide-input"
    ]
   },
   "outputs": [],
   "source": [
    "revol_bal = df.hvplot.hist(\n",
    "    y='revol_bal', by='loan_status', bins=50, width=350, height=400, \n",
    "    title='Revolving Balance', xlabel='Revolving balance', ylabel='Count', \n",
    "    alpha=0.4, legend='top', yformatter='%d', xformatter='%d'\n",
    ").opts(xrotation=45)\n",
    "\n",
    "revol_bal_sub = df.loc[df['revol_bal']<=250000].hvplot.hist(\n",
    "    y='revol_bal', by='loan_status', bins=50, width=350, height=400, \n",
    "    title='Revolving Balance(<=250000)', xlabel='Revolving balance', ylabel='Count', \n",
    "    alpha=0.4, legend='top', yformatter='%d', xformatter='%d', shared_axes=False\n",
    ")\n",
    "revol_bal + revol_bal_sub"
   ]
  },
  {
   "cell_type": "code",
   "execution_count": null,
   "id": "e24095b8",
   "metadata": {
    "tags": [
     "hide-input"
    ]
   },
   "outputs": [],
   "source": [
    "revol_util = df.hvplot.hist(\n",
    "    y='revol_util', by='loan_status', bins=50, width=350, height=400, \n",
    "    title='Revolving line utilization rate', xlabel='Revolving line utilization rate', ylabel='Count', \n",
    "    alpha=0.4, legend='top'\n",
    ").opts(yformatter='%d')\n",
    "\n",
    "revol_util_sub = df[df['revol_util'] < 120].hvplot.hist(\n",
    "    y='revol_util', by='loan_status', bins=50, width=350, height=400, \n",
    "    title='Revolving line utilization rate (< 120)', xlabel='Revolving line utilization rate', ylabel='Count', \n",
    "    shared_axes=False, alpha=0.4, legend='top'\n",
    ").opts(yformatter='%d')\n",
    "\n",
    "revol_util + revol_util_sub"
   ]
  },
  {
   "cell_type": "markdown",
   "id": "6fb3b9d6",
   "metadata": {},
   "source": [
    "### pub_rec, pub_rec_bankruptcies & mort_acc\n",
    "\n",
    "\n",
    "```{admonition} What is derogatory record?\n",
    "A derogatory public record is negative information on your credit report that is of a more serious nature and has become a matter of public record. It usually consists of bankruptcy filings, civil court judgments, foreclosures and tax liens. In some states, child support delinquencies are also a matter of public record.\n",
    "```\n",
    "\n",
    "https://budgeting.thenest.com/derogatory-public-record-mean-25266.html\n",
    "\n",
    "\n",
    "```{admonition} What is a mortgage?\n",
    "The mortgage refers to a loan used to purchase or maintain a home, land, or other types of real estate. Usually paying the mortgage consistently will increse the credit score.\n",
    "```\n",
    "\n",
    "https://www.investopedia.com/terms/m/mortgage.asp\n",
    "https://www.investopedia.com/articles/personal-finance/031215/how-mortgages-affect-credit-scores.asp\n",
    "\n",
    "- pub_rec: Number of derogatory public records.\n",
    "- pub_rec_bankruptcies: Number of public record bankruptcies.\n",
    "- mort_acc: Number of mortgage accounts.\n",
    "\n",
    "From the data we can process these data as binary who had never have a public record versus more than once."
   ]
  },
  {
   "cell_type": "code",
   "execution_count": null,
   "id": "e48ea88b",
   "metadata": {
    "tags": [
     "hide-input"
    ]
   },
   "outputs": [],
   "source": [
    "pub_rec = df.groupby(['loan_status'])['pub_rec'].value_counts().rename('Count').hvplot.barh(\n",
    "    title='The number of derogatory', xlabel='The number of derogatory', ylabel='Count',\n",
    "    width=400, height=800, xformatter='%d'\n",
    ")\n",
    "pub_rec"
   ]
  },
  {
   "cell_type": "code",
   "execution_count": null,
   "id": "e91cff0f",
   "metadata": {
    "tags": [
     "hide-input"
    ]
   },
   "outputs": [],
   "source": [
    "pub_rec_bankruptcies = df.groupby(['loan_status'])['pub_rec_bankruptcies'].value_counts().rename('Count').hvplot.barh(\n",
    "    title='The number of public record bankruptcies', xlabel='The number of public record bankruptcies', ylabel='Count',\n",
    "    width=400, height=600, xformatter='%d'\n",
    ")\n",
    "pub_rec_bankruptcies"
   ]
  },
  {
   "cell_type": "code",
   "execution_count": null,
   "id": "34421416",
   "metadata": {},
   "outputs": [],
   "source": [
    "df['mort_acc'].describe().round(2)"
   ]
  },
  {
   "cell_type": "code",
   "execution_count": null,
   "id": "90864b1e",
   "metadata": {
    "tags": [
     "hide-input"
    ]
   },
   "outputs": [],
   "source": [
    "mort_acc = df.groupby(['loan_status'])['mort_acc'].value_counts().rename('Count').hvplot.barh(\n",
    "    title='The number of mortgage accounts', xlabel='The number of mortgage accounts', ylabel='Count',\n",
    "    width=400, height=700, xformatter='%d'\n",
    ")\n",
    "\n",
    "print(df['mort_acc'].isnull().sum())\n",
    "\n",
    "mort_acc"
   ]
  },
  {
   "cell_type": "markdown",
   "id": "83163627",
   "metadata": {},
   "source": [
    "### initial_list_status, application_type & addr_state\n",
    "\n",
    "- initial_list_status: The initial listing status of the loan. Possible values are – W, F\n",
    "- application_type: Indicates whether the loan is an individual application or a joint application with two co-borrowers.\n",
    "- addr_state: The state provided by the borrower in the loan application."
   ]
  },
  {
   "cell_type": "code",
   "execution_count": null,
   "id": "6e7dadc1",
   "metadata": {
    "tags": [
     "hide-input"
    ]
   },
   "outputs": [],
   "source": [
    "initial_list_status = df.groupby(['loan_status'])['initial_list_status'].value_counts().rename('Count').hvplot.bar(\n",
    "    title='The initial listing status of the loan', xlabel='The initial listing status of the loan', ylabel='Count',\n",
    "    width=400, height=400, yformatter='%d'\n",
    ")\n",
    "initial_list_status"
   ]
  },
  {
   "cell_type": "code",
   "execution_count": null,
   "id": "0db1a726",
   "metadata": {
    "tags": [
     "hide-input"
    ]
   },
   "outputs": [],
   "source": [
    "application_type = df.groupby(['loan_status'])['application_type'].value_counts().rename('Count').hvplot.bar(\n",
    "    title='The application type', xlabel='The application type', ylabel='Count',\n",
    "    width=400, height=400, yformatter='%d'\n",
    ")\n",
    "application_type"
   ]
  },
  {
   "cell_type": "code",
   "execution_count": null,
   "id": "dbb5f855",
   "metadata": {
    "tags": [
     "hide-input"
    ]
   },
   "outputs": [],
   "source": [
    "addr_state = df.groupby(['loan_status'])['addr_state'].value_counts().rename('Count').hvplot.barh(\n",
    "    title='The state provided by the borrower', xlabel='The state', ylabel='Count',\n",
    "    width=500, height=850, xformatter='%d', legend='right'\n",
    ")\n",
    "addr_state"
   ]
  },
  {
   "cell_type": "markdown",
   "id": "5488a1e4",
   "metadata": {},
   "source": [
    "## Data Preprocessing\n",
    "\n",
    "- Drop columns\n",
    "- Missing values\n",
    "- Detecting outlieres"
   ]
  },
  {
   "cell_type": "code",
   "execution_count": null,
   "id": "44c17fc6",
   "metadata": {},
   "outputs": [],
   "source": [
    "# reload the data\n",
    "df = pd.read_csv( data_path / 'accepted.csv')\n",
    "print(f'Data shape: {df.shape}')\n",
    "print(df.columns)"
   ]
  },
  {
   "cell_type": "markdown",
   "id": "84b0edf1",
   "metadata": {},
   "source": [
    "According to our EDA, We will not use following columns: \n",
    "\n",
    "- `title`: duplicated with `purpose`\n",
    "- `emp_title`: too many unique jobs, but seems like some of them are duplicated\n",
    "- `issue_d`, `earliest_cr_line`: nothing interesting\n",
    "\n",
    "Other columns \n",
    "- `term`: change its' type to integer\n",
    "- `grade`, `sub_grade`, `home_ownership`, `purpose`, `initial_list_status`, `application_type`, `addr_state`: do label encoding\n",
    "- `emp_length`: add 'unknown' for NaN values and do the label encoding\n",
    "- `verification_status`: convert `source verified` as `verified` together and do the label encoding\n",
    "- `dti`: drop which dti over 60%\n",
    "- `revol_bal`: drop which has over $ 250,000 balance\n",
    "- `revol_util`: drop which has over 120% utilization rate\n",
    "- `pub_rec`, `pub_rec_bankruptcies`: convert as binary, who has ever had the record or not\n",
    "- `mort_acc`: can convert to categories [0, 1, 2, 3, 4, 5, 5+] and do the label encoding\n",
    "- `loan_status`: target column, do the label encoding"
   ]
  },
  {
   "cell_type": "code",
   "execution_count": null,
   "id": "cc9bf812",
   "metadata": {},
   "outputs": [],
   "source": [
    "from collections import defaultdict\n",
    "\n",
    "# drop columns values\n",
    "df.drop(columns=['title', 'emp_title', 'issue_d', 'earliest_cr_line'], inplace=True)\n",
    "print(f\"- Dropped columns: {['title', 'emp_title', 'issue_d', 'earliest_cr_line']}\")\n",
    "\n",
    "# term\n",
    "df['term'] = df['term'].str.rstrip('months').astype(int)\n",
    "print('- Type changed into integer: term')\n",
    "\n",
    "# need a label encoding\n",
    "encode_dict = defaultdict(dict)\n",
    "for c in ['grade', 'sub_grade', 'home_ownership', 'purpose', 'initial_list_status', 'application_type', 'addr_state']:\n",
    "    encode_dict[c]['v2i'] = {v: i for i, v in enumerate(sorted(df[c].unique()))}\n",
    "    encode_dict[c]['i2v'] = {i: v for v, i in encode_dict[c]['v2i'].items()}\n",
    "    df[c] = df[c].map(encode_dict[c]['v2i'])\n",
    "    print(f'- Label encoded: {c}')\n",
    "\n",
    "# emp_length\n",
    "c = 'emp_length'\n",
    "df[c].fillna('unknown', inplace=True)\n",
    "emp_values = ['< 1 year', '1 year', '2 years', '3 years', '4 years', '5 years', '6 years', '7 years', '8 years', '9 years', '10+ years']\n",
    "encode_dict[c]['v2i'] = {v: i for i, v in enumerate(emp_values)}\n",
    "encode_dict[c]['v2i']['unknown'] = 99\n",
    "encode_dict[c]['i2v'] = {i: v for v, i in encode_dict[c]['v2i'].items()}\n",
    "df[c] = df[c].map(encode_dict[c]['v2i'])\n",
    "print(f'- Label encoded: {c}')\n",
    "\n",
    "# verification_status\n",
    "c = 'verification_status'\n",
    "df[c].replace(to_replace='Source Verified', value='Verified', inplace=True)\n",
    "print(f'- Merged \"Source Verified\" into \"Verified\": {c}')\n",
    "veri_values = ['Not Verified', 'Verified']\n",
    "encode_dict[c]['v2i'] = {v: i for i, v in enumerate(veri_values)}\n",
    "encode_dict[c]['i2v'] = {i: v for v, i in encode_dict[c]['v2i'].items()}\n",
    "df[c] = df[c].map(encode_dict[c]['v2i'])\n",
    "print(f'- Label encoded: {c}')\n",
    "\n",
    "# dti, revol_bal, revol_util\n",
    "for c, thres in zip(['dti', 'revol_bal', 'revol_util'], [60, 250000, 120]):\n",
    "    drop_idx = df.index[df[c] > thres]\n",
    "    df.drop(index=drop_idx, inplace=True)\n",
    "    print(f'- Dropped # of {(len(drop_idx)/len(df))*100:.2f}% ({len(drop_idx)}) data: {c}')\n",
    "\n",
    "# pub_rec, pub_rec_bankruptcies\n",
    "for c in ['pub_rec', 'pub_rec_bankruptcies']:\n",
    "    df[c].apply(lambda x: 0 if x == 0 else 1)\n",
    "    print(f'- Convert into binary feature data: {c}')\n",
    "\n",
    "# mort_acc\n",
    "c = 'mort_acc'\n",
    "df.loc[df[c] > 5, c] = 6\n",
    "mort_values = ['0', '1', '2', '3', '4', '5', '5+']\n",
    "encode_dict[c]['v2i'] = {v: i for i, v in enumerate(mort_values)}\n",
    "encode_dict[c]['i2v'] = {i: v for v, i in encode_dict[c]['v2i'].items()}\n",
    "df.loc[df[c] > 5, c] = 6\n",
    "print(f'- Label encoded: {c}')\n",
    "\n",
    "# target column encoding\n",
    "c = 'loan_status'\n",
    "encode_dict[c]['v2i'] = {'Fully Paid': 0, 'Charged Off': 1}\n",
    "encode_dict[c]['i2v'] = {i: v for v, i in encode_dict[c]['v2i'].items()}\n",
    "df[c] = df[c].map(encode_dict[c]['v2i'])\n",
    "print(f'- Label encoded: {c}')\n",
    "\n",
    "df.reset_index(drop=True, inplace=True)"
   ]
  },
  {
   "cell_type": "markdown",
   "id": "46744073",
   "metadata": {},
   "source": [
    "Check missing data"
   ]
  },
  {
   "cell_type": "code",
   "execution_count": null,
   "id": "3dffe629",
   "metadata": {},
   "outputs": [],
   "source": [
    "for column in df.columns:\n",
    "    missing_col = df[column].isnull().sum()\n",
    "    if missing_col != 0:\n",
    "        missing_percentage = (missing_col / len(df)) * 100\n",
    "        print(f\"'{column}': number of missing values {missing_col}({missing_percentage:.3f}%)\")"
   ]
  },
  {
   "cell_type": "markdown",
   "id": "827e4f75",
   "metadata": {},
   "source": [
    "Since the data is not that much we will drop these records."
   ]
  },
  {
   "cell_type": "code",
   "execution_count": null,
   "id": "a9cd3cd9",
   "metadata": {},
   "outputs": [],
   "source": [
    "for c in ['dti', 'revol_util', 'mort_acc', 'pub_rec_bankruptcies']:\n",
    "    drop_idx = df.index[df[c].isnull()]\n",
    "    df.drop(index=drop_idx, inplace=True)\n",
    "df.reset_index(drop=True, inplace=True)\n",
    "df_loan_status_counts = df['loan_status'].value_counts()\n",
    "print(f'The total number of records is {len(df)}')\n",
    "print(f\"- loan_status = Fully Paid: {df_loan_status_counts.iloc[0]}\")\n",
    "print(f\"- loan_status = Charged Off: {df_loan_status_counts.iloc[1]}\")"
   ]
  },
  {
   "cell_type": "code",
   "execution_count": null,
   "id": "9e744c05",
   "metadata": {},
   "outputs": [],
   "source": [
    "# Save the processed data\n",
    "# import pickle\n",
    "# with (data_path / 'encode_dict.pickle').open('wb') as file:\n",
    "#     pickle.dump(encode_dict, file)\n",
    "# df.to_csv(data_path / 'accepted_processed.csv', index=False, encoding='utf-8')"
   ]
  },
  {
   "cell_type": "markdown",
   "id": "2cc94093",
   "metadata": {},
   "source": [
    "## Modeling"
   ]
  },
  {
   "cell_type": "code",
   "execution_count": null,
   "id": "e407b1d8",
   "metadata": {},
   "outputs": [],
   "source": [
    "from sklearn.model_selection import StratifiedShuffleSplit\n",
    "from sklearn.ensemble import RandomForestClassifier\n",
    "from sklearn.metrics import classification_report\n",
    "\n",
    "# Load the processed data\n",
    "df = pd.read_csv(data_path / 'accepted_processed.csv')\n",
    "y = df['loan_status']\n",
    "X = df.loc[:, ~df.columns.isin(['loan_status'])]"
   ]
  },
  {
   "cell_type": "code",
   "execution_count": null,
   "id": "7a50443f",
   "metadata": {},
   "outputs": [],
   "source": [
    "spiliter = StratifiedShuffleSplit(n_splits=1, test_size=0.1)\n",
    "train_idx, test_idx = list(*spiliter.split(X, y))\n",
    "X_train, y_train = X.loc[train_idx], y.loc[train_idx]\n",
    "X_test, y_test = X.loc[test_idx], y.loc[test_idx]"
   ]
  },
  {
   "cell_type": "code",
   "execution_count": null,
   "id": "f900c98f",
   "metadata": {},
   "outputs": [],
   "source": [
    "model = RandomForestClassifier(n_jobs=8, verbose=1)\n",
    "model.fit(X_train, y_train)"
   ]
  },
  {
   "cell_type": "code",
   "execution_count": null,
   "id": "29016d62",
   "metadata": {},
   "outputs": [],
   "source": [
    "y_pred = model.predict(X_test)\n",
    "rpt = classification_report(y_true=y_test, y_pred=y_pred)\n",
    "print(rpt)"
   ]
  },
  {
   "cell_type": "markdown",
   "id": "35d6856f",
   "metadata": {},
   "source": [
    "## Explanation on Models"
   ]
  },
  {
   "cell_type": "code",
   "execution_count": null,
   "id": "6a636296",
   "metadata": {},
   "outputs": [],
   "source": [
    "import shap\n",
    "shap.initjs()"
   ]
  },
  {
   "cell_type": "code",
   "execution_count": null,
   "id": "64bd8287",
   "metadata": {},
   "outputs": [],
   "source": [
    "np.random.seed(78)\n",
    "# pick 20 right predictions for each class\n",
    "y_correct = y_test[y_test == y_pred]\n",
    "num_samples = 10\n",
    "rnd_idx_0 = np.random.choice(y_correct[y_correct == 0].index, num_samples) \n",
    "rnd_idx_1 = np.random.choice(y_correct[y_correct == 1].index, num_samples)\n",
    "rnd_idx = np.concatenate((rnd_idx_0, rnd_idx_1))\n",
    "y_sampled = y_correct.loc[rnd_idx]\n",
    "X_sampled = X_test.loc[rnd_idx]"
   ]
  },
  {
   "cell_type": "code",
   "execution_count": null,
   "id": "a8e804d0",
   "metadata": {},
   "outputs": [],
   "source": [
    "explainer = shap.TreeExplainer(model)\n",
    "shap_values = explainer.shap_values(X_sampled, y_sampled)"
   ]
  },
  {
   "cell_type": "code",
   "execution_count": null,
   "id": "88853451",
   "metadata": {},
   "outputs": [],
   "source": [
    "shap.summary_plot(shap_values, X_sampled, alpha=0.8, color_bar=True)"
   ]
  },
  {
   "cell_type": "code",
   "execution_count": null,
   "id": "2cb8eea7",
   "metadata": {},
   "outputs": [],
   "source": [
    "label = 1\n",
    "shap.dependence_plot('sub_grade', shap_values[label], features=X_sampled)"
   ]
  },
  {
   "cell_type": "code",
   "execution_count": null,
   "id": "e08e3e06",
   "metadata": {},
   "outputs": [],
   "source": [
    "shap_values[1].shape"
   ]
  },
  {
   "cell_type": "code",
   "execution_count": null,
   "id": "1967bd74",
   "metadata": {},
   "outputs": [],
   "source": [
    "label = 0\n",
    "sample_index = 0\n",
    "shap.force_plot(explainer.expected_value[label], shap_values[label][sample_index], features=X_sampled.iloc[sample_index])"
   ]
  },
  {
   "cell_type": "code",
   "execution_count": null,
   "id": "209070e3",
   "metadata": {},
   "outputs": [],
   "source": [
    "label = 1\n",
    "sample_index = 10\n",
    "shap.force_plot(explainer.expected_value[label], shap_values[label][sample_index], features=X_sampled.iloc[sample_index])"
   ]
  }
 ],
 "metadata": {
  "jupytext": {
   "text_representation": {
    "extension": ".md",
    "format_name": "myst",
    "format_version": 0.13,
    "jupytext_version": "1.11.5"
   }
  },
  "kernelspec": {
   "display_name": "Python 3",
   "language": "python",
   "name": "python3"
  },
  "language_info": {
   "codemirror_mode": {
    "name": "ipython",
    "version": 3
   },
   "file_extension": ".py",
   "mimetype": "text/x-python",
   "name": "python",
   "nbconvert_exporter": "python",
   "pygments_lexer": "ipython3",
   "version": "3.8.5"
  },
  "source_map": [
   12,
   28,
   71,
   81,
   85,
   120,
   124,
   130,
   137,
   144,
   156,
   168,
   182,
   189,
   199,
   210,
   214,
   223,
   227,
   240,
   244,
   248,
   257,
   264,
   274,
   282,
   286,
   291,
   298,
   304,
   314,
   322,
   329,
   336,
   343,
   360,
   364,
   367,
   374,
   386,
   390,
   394,
   400,
   409,
   418,
   420,
   424,
   436,
   445,
   454,
   475,
   479,
   482,
   486,
   494,
   500,
   504,
   507,
   532,
   537,
   541,
   545,
   563,
   579,
   593,
   599,
   616,
   632,
   657,
   667,
   677,
   681,
   692,
   700,
   710,
   720,
   728,
   736,
   741,
   761,
   828,
   832,
   838,
   842,
   853,
   859,
   863,
   874,
   881,
   886,
   890,
   894,
   899,
   911,
   916,
   920,
   925,
   929,
   935
  ]
 },
 "nbformat": 4,
 "nbformat_minor": 5
}